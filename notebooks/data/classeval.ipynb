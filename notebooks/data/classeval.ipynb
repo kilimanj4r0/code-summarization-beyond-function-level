{
 "cells": [
  {
   "cell_type": "markdown",
   "metadata": {},
   "source": [
    "# Load ClassEval dataset"
   ]
  },
  {
   "cell_type": "code",
   "execution_count": 1,
   "metadata": {},
   "outputs": [],
   "source": [
    "from datasets import load_dataset\n",
    "from pathlib import Path\n",
    "from pprint import pprint\n",
    "import json\n",
    "import re\n",
    "from copy import copy\n",
    "import pandas as pd\n",
    "import numpy as np\n",
    "import matplotlib.pyplot as plt\n",
    "import seaborn as sns"
   ]
  },
  {
   "cell_type": "code",
   "execution_count": 2,
   "metadata": {},
   "outputs": [
    {
     "data": {
      "text/plain": [
       "(Dataset({\n",
       "     features: ['task_id', 'skeleton', 'test', 'solution_code', 'import_statement', 'class_description', 'methods_info', 'class_name', 'test_classes', 'class_constructor', 'fields'],\n",
       "     num_rows: 100\n",
       " }),\n",
       " {'task_id': 'ClassEval_42',\n",
       "  'skeleton': 'class Hotel:\\n    \"\"\"\\n    This is a class as hotel management system, managing the booking, check-in, check-out, and availability of rooms in a hotel with different room types.\\n    \"\"\"\\n\\n    def __init__(self, name, rooms):\\n        \"\"\"\\n        Initialize the three fields in Hotel System.\\n        name is the hotel name.\\n        available_rooms stores the remaining rooms in the hotel\\n        booked_rooms stores the rooms that have been booked and the person\\'s name who booked rooms.\\n        >>> hotel.name\\n        \\'peace hotel\\'\\n        >>> hotel.available_rooms\\n        available_rooms = {\\'single\\': 5, \\'double\\': 3}\\n        >>> hotel.booked_rooms\\n        {\\'single\\': {\\'guest 1\\': 2, \\'guest 2\\':1}, \\'double\\': {\\'guest1\\': 1}}\\n        \"\"\"\\n        self.name = name\\n        self.available_rooms = rooms\\n        self.booked_rooms = {}\\n\\n    def book_room(self, room_type, room_number, name):\\n        \"\"\"\\n        Check if there are any rooms of the specified type available.\\n        if rooms are adequate, modify available_rooms and booked_rooms and finish booking, or fail to book otherwise.\\n        :param room_type: str\\n        :param room_number: int, the expected number of specified type rooms to be booked\\n        :param name: str, guest name\\n        :return: if number of rooms about to be booked doesn\\'t exceed the remaining rooms, return str \\'Success!\\'\\n                if exceeds but quantity of available rooms is not equal to zero, return int(the remaining quantity of this room type).\\n                if exceeds and quantity is zero or the room_type isn\\'t in available_room, return False.\\n        >>> hotel = Hotel(\\'peace hotel\\', {\\'single\\': 5, \\'double\\': 3})\\n        >>> hotel.book_room(\\'single\\', 1, \\'guest 1\\')\\n        \\'Success!\\'\\n        >>> hotel.book_room(\\'single\\', 5, \\'guest 1\\')\\n        4\\n        >>> hotel.book_room(\\'single\\', 4, \\'guest 1\\')\\n        \\'Success!\\'\\n        >>> hotel.book_room(\\'single\\', 1, \\'guest 1\\')\\n        False\\n        >>> hotel.book_room(\\'triple\\', 1, \\'guest 1\\')\\n        False\\n        \"\"\"\\n    \\n    def check_in(self, room_type, room_number, name):\\n        \"\"\"\\n        Check if the room of the specified type and number is booked by the person named name.\\n        Remove this name when check in successfuly(room_number is equal to specific person\\'s booked_rooms. When the actual check in quantity (room_number) is less than the booked quantity, number in booked_rooms will be booked quantity minus actual quantity\\n        :param room_type: str, check in room type\\n        :param room_number: int, check in room number\\n        :param name: str, person name\\n        :return False: only if the room_type is not in the booked_rooms or room_number is higher than quantity in booked rooms.\\n        >>> hotel = Hotel(\\'peace hotel\\', {\\'single\\': 5, \\'double\\': 3})\\n        >>> hotel.book_room(\\'single\\', 1, \\'guest 1\\')\\n        \\'Success!\\'\\n        >>> hotel.check_in(\\'single\\', 2, \\'guest 1\\')\\n        False\\n        >>> hotel.check_in(\\'single\\', 1, \\'guest 1\\')\\n        >>> hotel.booked_rooms\\n        {\\'single\\': {}}\\n        \"\"\"\\n\\n    def check_out(self, room_type, room_number):\\n        \"\"\"\\n        Check out rooms, add number for specific type in available_rooms.\\n        If room_type is new, add new type in available_rooms.\\n        :param room_type: str, check out room type\\n        :param room_number: int, check out room number\\n        >>> hotel = Hotel(\\'peace hotel\\', {\\'single\\': 5, \\'double\\': 3})\\n        >>> hotel.check_out(\\'single\\', 2)\\n        >>> hotel.available_rooms\\n        {\\'single\\': 7, \\'double\\': 3}\\n        >>> hotel.check_out(\\'triple\\', 2)\\n        >>> hotel.available_rooms\\n        {\\'single\\': 7, \\'double\\': 3, \\'triple\\': 2}\\n        \"\"\"\\n\\n    def get_available_rooms(self, room_type):\\n        \"\"\"\\n        Get the number of specific type of available rooms.\\n        :param room_type: str, the room type that want to know\\n        :return: int, the remaining number of this type rooms.\\n        >>> hotel = Hotel(\\'peace hotel\\', {\\'single\\': 5, \\'double\\': 3})\\n        >>> hotel.get_available_rooms(\\'single\\')\\n        5\\n        \"\"\"',\n",
       "  'test': \"import unittest\\n\\n\\nclass HotelTestBookRoom(unittest.TestCase):\\n    def setUp(self):\\n        self.hotel = Hotel('peace hotel', {'single': 3, 'double': 2})\\n\\n    def test_book_room_1(self):\\n        result = self.hotel.book_room('single', 2, 'guest 1')\\n        self.assertEqual(result, 'Success!')\\n        self.assertEqual(self.hotel.booked_rooms, {'single': {'guest 1': 2}})\\n        self.assertEqual(self.hotel.available_rooms, {'single': 1, 'double': 2})\\n\\n    def test_book_room_2(self):\\n        result = self.hotel.book_room('triple', 2, 'guest 1')\\n        self.assertFalse(result)\\n        self.assertEqual(self.hotel.booked_rooms, {})\\n        self.assertEqual(self.hotel.available_rooms, {'single': 3, 'double': 2})\\n\\n    def test_book_room_3(self):\\n        self.hotel.book_room('single', 2, 'guest 1')\\n        result = self.hotel.book_room('single', 2, 'guest 2')\\n        self.assertEqual(result, 1)\\n        self.assertEqual(self.hotel.booked_rooms, {'single': {'guest 1': 2}})\\n        self.assertEqual(self.hotel.available_rooms, {'single': 1, 'double': 2})\\n\\n    def test_book_room_4(self):\\n        self.hotel.book_room('single', 2, 'guest 1')\\n        result = self.hotel.book_room('single', 1, 'guest 2')\\n        self.assertEqual(result, 'Success!')\\n        self.assertEqual(self.hotel.booked_rooms, {'single': {'guest 1': 2, 'guest 2': 1}})\\n        self.assertEqual(self.hotel.available_rooms, {'double': 2, 'single': 0})\\n\\n    def test_book_room_5(self):\\n        self.hotel.book_room('single', 2, 'guest 1')\\n        result = self.hotel.book_room('single', 3, 'guest 2')\\n        self.assertEqual(result, 1)\\n        self.assertEqual(self.hotel.booked_rooms, {'single': {'guest 1': 2}})\\n        self.assertEqual(self.hotel.available_rooms, {'single': 1, 'double': 2})\\n\\n    def test_book_room_6(self):\\n        self.hotel.book_room('single', 3, 'guest 1')\\n        result = self.hotel.book_room('single', 100, 'guest 1')\\n        self.assertFalse(result)\\n\\n\\nclass HotelTestCheckIn(unittest.TestCase):\\n    def setUp(self):\\n        self.hotel = Hotel('Test Hotel', {'single': 3, 'double': 2})\\n        self.hotel.booked_rooms = {'single': {'guest 1': 2}, 'double': {'guest 2': 1}}\\n\\n    def test_check_in_1(self):\\n        self.hotel.check_in('single', 1, 'guest 1')\\n        self.assertEqual(self.hotel.booked_rooms, {'single': {'guest 1': 1}, 'double': {'guest 2': 1}})\\n\\n    def test_check_in_2(self):\\n        self.assertFalse(self.hotel.check_in('single', 3, 'guest 1'))\\n        self.assertEqual(self.hotel.booked_rooms, {'single': {'guest 1': 2}, 'double': {'guest 2': 1}})\\n\\n    def test_check_in_3(self):\\n        self.assertFalse(self.hotel.check_in('double', 1, 'guest 1'))\\n        self.assertEqual(self.hotel.booked_rooms, {'single': {'guest 1': 2}, 'double': {'guest 2': 1}})\\n\\n    def test_check_in_4(self):\\n        self.hotel.check_in('double', 1, 'guest 2')\\n        self.assertEqual(self.hotel.booked_rooms, {'double': {}, 'single': {'guest 1': 2}})\\n\\n    def test_check_in_5(self):\\n        self.hotel.check_in('double', 2, 'guest 2')\\n        self.assertEqual(self.hotel.booked_rooms, {'double': {'guest 2': 1}, 'single': {'guest 1': 2}})\\n\\n    def test_check_in_6(self):\\n        res = self.hotel.check_in('abc', 1, 'guest 1')\\n        self.assertFalse(res)\\n\\n\\nclass HotelTestCheckOut(unittest.TestCase):\\n    def setUp(self):\\n        self.hotel = Hotel('Test Hotel', {'single': 3, 'double': 2})\\n        self.hotel.booked_rooms = {'single': {'guest 1': 2}, 'double': {'guest 2': 1}}\\n\\n    def test_check_out_1(self):\\n        self.hotel.check_out('single', 1)\\n        self.assertEqual(self.hotel.available_rooms, {'single': 4, 'double': 2})\\n        self.assertEqual(self.hotel.booked_rooms, {'single': {'guest 1': 2}, 'double': {'guest 2': 1}})\\n\\n    def test_check_out_2(self):\\n        self.hotel.check_out('single', 3)\\n        self.assertEqual(self.hotel.available_rooms, {'single': 6, 'double': 2})\\n        self.assertEqual(self.hotel.booked_rooms, {'single': {'guest 1': 2}, 'double': {'guest 2': 1}})\\n\\n    def test_check_out_3(self):\\n        self.hotel.check_out('triple', 2)\\n        self.assertEqual(self.hotel.available_rooms, {'single': 3, 'double': 2, 'triple': 2})\\n        self.assertEqual(self.hotel.booked_rooms, {'single': {'guest 1': 2}, 'double': {'guest 2': 1}})\\n\\n    def test_check_out_4(self):\\n        self.hotel.check_out('double', 1)\\n        self.assertEqual(self.hotel.available_rooms, {'single': 3, 'double': 3})\\n        self.assertEqual(self.hotel.booked_rooms, {'single': {'guest 1': 2}, 'double': {'guest 2': 1}})\\n\\n    def test_check_out_5(self):\\n        self.hotel.check_out('double', 2)\\n        self.assertEqual(self.hotel.available_rooms, {'single': 3, 'double': 4})\\n        self.assertEqual(self.hotel.booked_rooms, {'single': {'guest 1': 2}, 'double': {'guest 2': 1}})\\n\\n\\nclass HotelTestAvailableRooms(unittest.TestCase):\\n    def setUp(self):\\n        self.hotel = Hotel('Test Hotel', {'single': 3, 'double': 2, 'triple': 2})\\n\\n    def test_get_available_rooms(self):\\n        result = self.hotel.get_available_rooms('single')\\n        self.assertEqual(result, 3)\\n\\n    def test_get_available_rooms_2(self):\\n        self.hotel.book_room('single', 2, 'guest 1')\\n        result = self.hotel.get_available_rooms('single')\\n        self.assertEqual(result, 1)\\n\\n    def test_get_available_rooms_3(self):\\n        self.hotel.book_room('single', 3, 'guest 1')\\n        result = self.hotel.get_available_rooms('single')\\n        self.assertEqual(result, 0)\\n\\n    def test_get_available_rooms_4(self):\\n        self.hotel.book_room('single', 3, 'guest 1')\\n        result = self.hotel.get_available_rooms('double')\\n        self.assertEqual(result, 2)\\n\\n    def test_get_available_rooms_5(self):\\n        self.hotel.book_room('single', 3, 'guest 1')\\n        result = self.hotel.get_available_rooms('triple')\\n        self.assertEqual(result, 2)\\n\\n\\nclass HotelTestMain(unittest.TestCase):\\n    def setUp(self) -> None:\\n        self.hotel = Hotel('Test Hotel', {'single': 3, 'double': 2})\\n\\n    def test_main(self):\\n        result = self.hotel.book_room('single', 2, 'guest 1')\\n        self.assertEqual(result, 'Success!')\\n        self.assertEqual(self.hotel.booked_rooms, {'single': {'guest 1': 2}})\\n        self.assertEqual(self.hotel.available_rooms, {'single': 1, 'double': 2})\\n\\n        self.hotel.check_in('single', 2, 'guest 1')\\n        self.assertEqual(self.hotel.booked_rooms, {'single': {}})\\n        self.assertEqual(self.hotel.available_rooms, {'single': 1, 'double': 2})\\n\\n        self.hotel.check_out('single', 2)\\n        self.assertEqual(self.hotel.available_rooms, {'single': 3, 'double': 2})\\n\\n        self.assertEqual(self.hotel.get_available_rooms('single'), 3)\",\n",
       "  'solution_code': 'class Hotel:\\n    def __init__(self, name, rooms):\\n        self.name = name\\n        self.available_rooms = rooms\\n        # available_rooms = {room_type1: room_number1, room_type2: room_number2, ...}\\n        # available_rooms = {\\'single\\': 5, \\'double\\': 3}\\n        self.booked_rooms = {}\\n        # booked_rooms = {room_type1: {name1: room_number1, name2: room_number2, ...}, room_type2: {...}, ...}\\n        # booked_rooms = {\\'single\\': {\\'name1\\': 2, \\'name2\\':1}, \\'double\\': {}}\\n\\n    def book_room(self, room_type, room_number, name):\\n        # Check if there are any rooms of the specified type available\\n        if room_type not in self.available_rooms.keys():\\n            return False\\n\\n        if room_number <= self.available_rooms[room_type]:\\n            # Book the room by adding it to the booked_rooms dictionary\\n            if room_type not in self.booked_rooms.keys():\\n                self.booked_rooms[room_type] = {}\\n            self.booked_rooms[room_type][name] = room_number\\n            self.available_rooms[room_type] -= room_number\\n            return \"Success!\"\\n        elif self.available_rooms[room_type] != 0:\\n            return self.available_rooms[room_type]\\n        else:\\n            return False\\n\\n    def check_in(self, room_type, room_number, name):\\n        # Check if the room of the specified type and number is booked\\n        if room_type not in self.booked_rooms.keys():\\n            return False\\n        if name in self.booked_rooms[room_type]:\\n            if room_number > self.booked_rooms[room_type][name]:\\n                return False\\n            elif room_number == self.booked_rooms[room_type][name]:\\n                # Check in the room by removing it from the booked_rooms dictionary\\n                self.booked_rooms[room_type].pop(name)\\n            else:\\n                self.booked_rooms[room_type][name] -= room_number\\n\\n\\n    def check_out(self, room_type, room_number):\\n        if room_type in self.available_rooms:\\n            self.available_rooms[room_type] += room_number\\n        else:\\n            self.available_rooms[room_type] = room_number\\n\\n    def get_available_rooms(self, room_type):\\n        return self.available_rooms[room_type]',\n",
       "  'import_statement': [],\n",
       "  'class_description': '    \"\"\"\\n    This is a class as hotel management system, managing the booking, check-in, check-out, and availability of rooms in a hotel with different room types.\\n    \"\"\"\\n',\n",
       "  'methods_info': [{'method_name': 'book_room',\n",
       "    'method_description': 'def book_room(self, room_type, room_number, name):\\n        \"\"\"\\n        Check if there are any rooms of the specified type available.\\n        if rooms are adequate, modify available_rooms and booked_rooms and finish booking, or fail to book otherwise.\\n        :param room_type: str\\n        :param room_number: int, the expected number of specified type rooms to be booked\\n        :param name: str, guest name\\n        :return: if number of rooms about to be booked doesn\\'t exceed the remaining rooms, return str \\'Success!\\'\\n                if exceeds but quantity of available rooms is not equal to zero, return int(the remaining quantity of this room type).\\n                if exceeds and quantity is zero or the room_type isn\\'t in available_room, return False.\\n        >>> hotel = Hotel(\\'peace hotel\\', {\\'single\\': 5, \\'double\\': 3})\\n        >>> hotel.book_room(\\'single\\', 1, \\'guest 1\\')\\n        \\'Success!\\'\\n        >>> hotel.book_room(\\'single\\', 5, \\'guest 1\\')\\n        4\\n        >>> hotel.book_room(\\'single\\', 4, \\'guest 1\\')\\n        \\'Success!\\'\\n        >>> hotel.book_room(\\'single\\', 1, \\'guest 1\\')\\n        False\\n        >>> hotel.book_room(\\'triple\\', 1, \\'guest 1\\')\\n        False\\n        \"\"\"',\n",
       "    'test_class': 'HotelTestBookRoom',\n",
       "    'test_code': \"class HotelTestBookRoom(unittest.TestCase):\\n    def setUp(self):\\n        self.hotel = Hotel('peace hotel', {'single': 3, 'double': 2})\\n\\n    def test_book_room_1(self):\\n        result = self.hotel.book_room('single', 2, 'guest 1')\\n        self.assertEqual(result, 'Success!')\\n        self.assertEqual(self.hotel.booked_rooms, {'single': {'guest 1': 2}})\\n        self.assertEqual(self.hotel.available_rooms, {'single': 1, 'double': 2})\\n\\n    def test_book_room_2(self):\\n        result = self.hotel.book_room('triple', 2, 'guest 1')\\n        self.assertFalse(result)\\n        self.assertEqual(self.hotel.booked_rooms, {})\\n        self.assertEqual(self.hotel.available_rooms, {'single': 3, 'double': 2})\\n\\n    def test_book_room_3(self):\\n        self.hotel.book_room('single', 2, 'guest 1')\\n        result = self.hotel.book_room('single', 2, 'guest 2')\\n        self.assertEqual(result, 1)\\n        self.assertEqual(self.hotel.booked_rooms, {'single': {'guest 1': 2}})\\n        self.assertEqual(self.hotel.available_rooms, {'single': 1, 'double': 2})\\n\\n    def test_book_room_4(self):\\n        self.hotel.book_room('single', 2, 'guest 1')\\n        result = self.hotel.book_room('single', 1, 'guest 2')\\n        self.assertEqual(result, 'Success!')\\n        self.assertEqual(self.hotel.booked_rooms, {'single': {'guest 1': 2, 'guest 2': 1}})\\n        self.assertEqual(self.hotel.available_rooms, {'double': 2, 'single': 0})\\n\\n    def test_book_room_5(self):\\n        self.hotel.book_room('single', 2, 'guest 1')\\n        result = self.hotel.book_room('single', 3, 'guest 2')\\n        self.assertEqual(result, 1)\\n        self.assertEqual(self.hotel.booked_rooms, {'single': {'guest 1': 2}})\\n        self.assertEqual(self.hotel.available_rooms, {'single': 1, 'double': 2})\\n\\n    def test_book_room_6(self):\\n        self.hotel.book_room('single', 3, 'guest 1')\\n        result = self.hotel.book_room('single', 100, 'guest 1')\\n        self.assertFalse(result)\",\n",
       "    'solution_code': 'def book_room(self, room_type, room_number, name):\\n        # Check if there are any rooms of the specified type available\\n        if room_type not in self.available_rooms.keys():\\n            return False\\n\\n        if room_number <= self.available_rooms[room_type]:\\n            # Book the room by adding it to the booked_rooms dictionary\\n            if room_type not in self.booked_rooms.keys():\\n                self.booked_rooms[room_type] = {}\\n            self.booked_rooms[room_type][name] = room_number\\n            self.available_rooms[room_type] -= room_number\\n            return \"Success!\"\\n        elif self.available_rooms[room_type] != 0:\\n            return self.available_rooms[room_type]\\n        else:\\n            return False',\n",
       "    'dependencies': {'Standalone': False,\n",
       "     'lib_dependencies': [],\n",
       "     'field_dependencies': ['self.available_rooms', 'self.booked_rooms'],\n",
       "     'method_dependencies': []}},\n",
       "   {'method_name': 'check_in',\n",
       "    'method_description': 'def check_in(self, room_type, room_number, name):\\n        \"\"\"\\n        Check if the room of the specified type and number is booked by the person named name.\\n        Remove this name when check in successfuly(room_number is equal to specific person\\'s booked_rooms. When the actual check in quantity (room_number) is less than the booked quantity, number in booked_rooms will be booked quantity minus actual quantity\\n        :param room_type: str, check in room type\\n        :param room_number: int, check in room number\\n        :param name: str, person name\\n        :return False: only if the room_type is not in the booked_rooms or room_number is higher than quantity in booked rooms.\\n        >>> hotel = Hotel(\\'peace hotel\\', {\\'single\\': 5, \\'double\\': 3})\\n        >>> hotel.book_room(\\'single\\', 1, \\'guest 1\\')\\n        \\'Success!\\'\\n        >>> hotel.check_in(\\'single\\', 2, \\'guest 1\\')\\n        False\\n        >>> hotel.check_in(\\'single\\', 1, \\'guest 1\\')\\n        >>> hotel.booked_rooms\\n        {\\'single\\': {}}\\n        \"\"\"',\n",
       "    'test_class': 'HotelTestCheckIn',\n",
       "    'test_code': \"class HotelTestCheckIn(unittest.TestCase):\\n    def setUp(self):\\n        self.hotel = Hotel('Test Hotel', {'single': 3, 'double': 2})\\n        self.hotel.booked_rooms = {'single': {'guest 1': 2}, 'double': {'guest 2': 1}}\\n\\n    def test_check_in_1(self):\\n        self.hotel.check_in('single', 1, 'guest 1')\\n        self.assertEqual(self.hotel.booked_rooms, {'single': {'guest 1': 1}, 'double': {'guest 2': 1}})\\n\\n    def test_check_in_2(self):\\n        self.assertFalse(self.hotel.check_in('single', 3, 'guest 1'))\\n        self.assertEqual(self.hotel.booked_rooms, {'single': {'guest 1': 2}, 'double': {'guest 2': 1}})\\n\\n    def test_check_in_3(self):\\n        self.assertFalse(self.hotel.check_in('double', 1, 'guest 1'))\\n        self.assertEqual(self.hotel.booked_rooms, {'single': {'guest 1': 2}, 'double': {'guest 2': 1}})\\n\\n    def test_check_in_4(self):\\n        self.hotel.check_in('double', 1, 'guest 2')\\n        self.assertEqual(self.hotel.booked_rooms, {'double': {}, 'single': {'guest 1': 2}})\\n\\n    def test_check_in_5(self):\\n        self.hotel.check_in('double', 2, 'guest 2')\\n        self.assertEqual(self.hotel.booked_rooms, {'double': {'guest 2': 1}, 'single': {'guest 1': 2}})\\n\\n    def test_check_in_6(self):\\n        res = self.hotel.check_in('abc', 1, 'guest 1')\\n        self.assertFalse(res)\",\n",
       "    'solution_code': 'def check_in(self, room_type, room_number, name):\\n        # Check if the room of the specified type and number is booked\\n        if room_type not in self.booked_rooms.keys():\\n            return False\\n        if name in self.booked_rooms[room_type]:\\n            if room_number > self.booked_rooms[room_type][name]:\\n                return False\\n            elif room_number == self.booked_rooms[room_type][name]:\\n                # Check in the room by removing it from the booked_rooms dictionary\\n                self.booked_rooms[room_type].pop(name)\\n            else:\\n                self.booked_rooms[room_type][name] -= room_number',\n",
       "    'dependencies': {'Standalone': False,\n",
       "     'lib_dependencies': [],\n",
       "     'field_dependencies': ['self.booked_rooms'],\n",
       "     'method_dependencies': []}},\n",
       "   {'method_name': 'check_out',\n",
       "    'method_description': 'def check_out(self, room_type, room_number):\\n        \"\"\"\\n        Check out rooms, add number for specific type in available_rooms.\\n        If room_type is new, add new type in available_rooms.\\n        :param room_type: str, check out room type\\n        :param room_number: int, check out room number\\n        >>> hotel = Hotel(\\'peace hotel\\', {\\'single\\': 5, \\'double\\': 3})\\n        >>> hotel.check_out(\\'single\\', 2)\\n        >>> hotel.available_rooms\\n        {\\'single\\': 7, \\'double\\': 3}\\n        >>> hotel.check_out(\\'triple\\', 2)\\n        >>> hotel.available_rooms\\n        {\\'single\\': 7, \\'double\\': 3, \\'triple\\': 2}\\n        \"\"\"',\n",
       "    'test_class': 'HotelTestCheckOut',\n",
       "    'test_code': \"class HotelTestCheckOut(unittest.TestCase):\\n    def setUp(self):\\n        self.hotel = Hotel('Test Hotel', {'single': 3, 'double': 2})\\n        self.hotel.booked_rooms = {'single': {'guest 1': 2}, 'double': {'guest 2': 1}}\\n\\n    def test_check_out_1(self):\\n        self.hotel.check_out('single', 1)\\n        self.assertEqual(self.hotel.available_rooms, {'single': 4, 'double': 2})\\n        self.assertEqual(self.hotel.booked_rooms, {'single': {'guest 1': 2}, 'double': {'guest 2': 1}})\\n\\n    def test_check_out_2(self):\\n        self.hotel.check_out('single', 3)\\n        self.assertEqual(self.hotel.available_rooms, {'single': 6, 'double': 2})\\n        self.assertEqual(self.hotel.booked_rooms, {'single': {'guest 1': 2}, 'double': {'guest 2': 1}})\\n\\n    def test_check_out_3(self):\\n        self.hotel.check_out('triple', 2)\\n        self.assertEqual(self.hotel.available_rooms, {'single': 3, 'double': 2, 'triple': 2})\\n        self.assertEqual(self.hotel.booked_rooms, {'single': {'guest 1': 2}, 'double': {'guest 2': 1}})\\n\\n    def test_check_out_4(self):\\n        self.hotel.check_out('double', 1)\\n        self.assertEqual(self.hotel.available_rooms, {'single': 3, 'double': 3})\\n        self.assertEqual(self.hotel.booked_rooms, {'single': {'guest 1': 2}, 'double': {'guest 2': 1}})\\n\\n    def test_check_out_5(self):\\n        self.hotel.check_out('double', 2)\\n        self.assertEqual(self.hotel.available_rooms, {'single': 3, 'double': 4})\\n        self.assertEqual(self.hotel.booked_rooms, {'single': {'guest 1': 2}, 'double': {'guest 2': 1}})\",\n",
       "    'solution_code': 'def check_out(self, room_type, room_number):\\n        if room_type in self.available_rooms:\\n            self.available_rooms[room_type] += room_number\\n        else:\\n            self.available_rooms[room_type] = room_number',\n",
       "    'dependencies': {'Standalone': False,\n",
       "     'lib_dependencies': [],\n",
       "     'field_dependencies': ['self.available_rooms'],\n",
       "     'method_dependencies': []}},\n",
       "   {'method_name': 'get_available_rooms',\n",
       "    'method_description': 'def get_available_rooms(self, room_type):\\n        \"\"\"\\n        Get the number of specific type of available rooms.\\n        :param room_type: str, the room type that want to know\\n        :return: int, the remaining number of this type rooms.\\n        >>> hotel = Hotel(\\'peace hotel\\', {\\'single\\': 5, \\'double\\': 3})\\n        >>> hotel.get_available_rooms(\\'single\\')\\n        5\\n        \"\"\"',\n",
       "    'test_class': 'HotelTestAvailableRooms',\n",
       "    'test_code': \"class HotelTestAvailableRooms(unittest.TestCase):\\n    def setUp(self):\\n        self.hotel = Hotel('Test Hotel', {'single': 3, 'double': 2, 'triple': 2})\\n\\n    def test_get_available_rooms(self):\\n        result = self.hotel.get_available_rooms('single')\\n        self.assertEqual(result, 3)\\n\\n    def test_get_available_rooms_2(self):\\n        self.hotel.book_room('single', 2, 'guest 1')\\n        result = self.hotel.get_available_rooms('single')\\n        self.assertEqual(result, 1)\\n\\n    def test_get_available_rooms_3(self):\\n        self.hotel.book_room('single', 3, 'guest 1')\\n        result = self.hotel.get_available_rooms('single')\\n        self.assertEqual(result, 0)\\n\\n    def test_get_available_rooms_4(self):\\n        self.hotel.book_room('single', 3, 'guest 1')\\n        result = self.hotel.get_available_rooms('double')\\n        self.assertEqual(result, 2)\\n\\n    def test_get_available_rooms_5(self):\\n        self.hotel.book_room('single', 3, 'guest 1')\\n        result = self.hotel.get_available_rooms('triple')\\n        self.assertEqual(result, 2)\",\n",
       "    'solution_code': 'def get_available_rooms(self, room_type):\\n        return self.available_rooms[room_type]',\n",
       "    'dependencies': {'Standalone': False,\n",
       "     'lib_dependencies': [],\n",
       "     'field_dependencies': ['self.available_rooms'],\n",
       "     'method_dependencies': []}}],\n",
       "  'class_name': 'Hotel',\n",
       "  'test_classes': ['HotelTestBookRoom',\n",
       "   'HotelTestCheckIn',\n",
       "   'HotelTestCheckOut',\n",
       "   'HotelTestAvailableRooms',\n",
       "   'HotelTestMain'],\n",
       "  'class_constructor': 'class Hotel: \\n    def __init__(self, name, rooms):\\n        \"\"\"\\n        Initialize the three fields in Hotel System.\\n        name is the hotel name.\\n        available_rooms stores the remaining rooms in the hotel\\n        booked_rooms stores the rooms that have been booked and the person\\'s name who booked rooms.\\n        >>> hotel.name\\n        \\'peace hotel\\'\\n        >>> hotel.available_rooms\\n        available_rooms = {\\'single\\': 5, \\'double\\': 3}\\n        >>> hotel.booked_rooms\\n        {\\'single\\': {\\'guest 1\\': 2, \\'guest 2\\':1}, \\'double\\': {\\'guest1\\': 1}}\\n        \"\"\"\\n        self.name = name\\n        self.available_rooms = rooms\\n        self.booked_rooms = {}\\n\\n',\n",
       "  'fields': ['self.available_rooms', 'self.booked_rooms', 'self.name']})"
      ]
     },
     "execution_count": 2,
     "metadata": {},
     "output_type": "execute_result"
    }
   ],
   "source": [
    "dataset = load_dataset(\"FudanSELab/ClassEval\")\n",
    "ds = dataset['test']\n",
    "ds, ds[42]"
   ]
  },
  {
   "cell_type": "code",
   "execution_count": 3,
   "metadata": {},
   "outputs": [
    {
     "data": {
      "text/plain": [
       "[{'method_name': 'filter',\n",
       "  'method_description': 'def filter(self, request):\\n        \"\"\"\\n        Filter the incoming request based on certain rules and conditions.\\n        :param request: dict, the incoming request details\\n        :return: bool, True if the request is allowed, False otherwise\\n        >>> filter = AccessGatewayFilter()\\n        >>> filter.filter({\\'path\\': \\'/login\\', \\'method\\': \\'POST\\'})\\n        True\\n\\n        \"\"\"',\n",
       "  'test_class': 'AccessGatewayFilterTestFilter',\n",
       "  'test_code': \"class AccessGatewayFilterTestFilter(unittest.TestCase):\\n    def test_filter_1(self):\\n        agf = AccessGatewayFilter()\\n        request = {'path': '/api/data', 'method': 'GET'}\\n        res = agf.filter(request)\\n        self.assertTrue(res)\\n\\n    def test_filter_2(self):\\n        agf = AccessGatewayFilter()\\n        request = {'path': '/api/data', 'method': 'POST'}\\n        res = agf.filter(request)\\n        self.assertTrue(res)\\n\\n    def test_filter_3(self):\\n        agf = AccessGatewayFilter()\\n        request = {'path': '/login/data', 'method': 'GET'}\\n        res = agf.filter(request)\\n        self.assertTrue(res)\\n\\n    def test_filter_4(self):\\n        agf = AccessGatewayFilter()\\n        request = {'path': '/login/data', 'method': 'POST'}\\n        res = agf.filter(request)\\n        self.assertTrue(res)\\n\\n    def test_filter_5(self):\\n        agf = AccessGatewayFilter()\\n        request = {'path': '/abc', 'method': 'POST',\\n                   'headers': {\\n                       'Authorization': {'user': {'name': 'user1', 'level': 5, 'address': 'address1'},\\n                                         'jwt': 'user1' + str(datetime.date.today())}}}\\n        res = agf.filter(request)\\n        self.assertTrue(res)\\n\\n    def test_filter_6(self):\\n        agf = AccessGatewayFilter()\\n        request = {'path': '/abc', 'method': 'POST',\\n                   'headers': {\\n                       'Authorization': {'user': {'name': 'user1', 'level': 3, 'address': 'address1'},\\n                                         'jwt': 'user1' + str(datetime.date.today() - datetime.timedelta(days=365))}}}\\n        res = agf.filter(request)\\n        self.assertFalse(res)\\n\\n    def test_filter_7(self):\\n        agf = AccessGatewayFilter()\\n        request = {'path': '/abc', 'method': 'POST',\\n                   'headers': {\\n                       'Authorization': {'user': {'name': 'user1', 'level': 1, 'address': 'address1'},\\n                                         'jwt': 'user1' + str(datetime.date.today())}}}\\n        res = agf.filter(request)\\n        self.assertIsNone(res)\\n\\n    def test_filter_8(self):\\n        agf = AccessGatewayFilter()\\n        request = {'path': '/abc', 'method': 'POST',\\n                   'headers': {\\n                       'Authorization': {'user': {'name': 'user1', 'level': 3, 'address': 'address1'},\\n                                         'jwt': 'user2' + str(datetime.date.today() - datetime.timedelta(days=365))}}}\\n        res = agf.filter(request)\\n        self.assertTrue(res)\",\n",
       "  'solution_code': \"def filter(self, request):\\n        request_uri = request['path']\\n        method = request['method']\\n\\n        if self.is_start_with(request_uri):\\n            return True\\n\\n        try:\\n            token = self.get_jwt_user(request)\\n            user = token['user']\\n            if user['level'] > 2:\\n                self.set_current_user_info_and_log(user)\\n                return True\\n        except:\\n            return False\",\n",
       "  'dependencies': {'Standalone': False,\n",
       "   'lib_dependencies': [],\n",
       "   'field_dependencies': [],\n",
       "   'method_dependencies': ['is_start_with',\n",
       "    'get_jwt_user',\n",
       "    'set_current_user_info_and_log']}},\n",
       " {'method_name': 'is_start_with',\n",
       "  'method_description': 'def is_start_with(self, request_uri):\\n        \"\"\"\\n        Check if the request URI starts with certain prefixes.\\n        :param request_uri: str, the URI of the request\\n        :return: bool, True if the URI starts with certain prefixes, False otherwise\\n        >>> filter = AccessGatewayFilter()\\n        >>> filter.is_start_with(\\'/api/data\\')\\n        True\\n\\n        \"\"\"',\n",
       "  'test_class': 'AccessGatewayFilterTestIsStartWith',\n",
       "  'test_code': \"class AccessGatewayFilterTestIsStartWith(unittest.TestCase):\\n    def test_is_start_with_1(self):\\n        agf = AccessGatewayFilter()\\n        request_uri = '/api/data'\\n        res = agf.is_start_with(request_uri)\\n        self.assertTrue(res)\\n\\n    def test_is_start_with_2(self):\\n        agf = AccessGatewayFilter()\\n        request_uri = '/admin/settings'\\n        res = agf.is_start_with(request_uri)\\n        self.assertFalse(res)\\n\\n    def test_is_start_with_3(self):\\n        agf = AccessGatewayFilter()\\n        request_uri = '/login/data'\\n        res = agf.is_start_with(request_uri)\\n        self.assertTrue(res)\\n\\n    def test_is_start_with_4(self):\\n        agf = AccessGatewayFilter()\\n        request_uri = '/abc/data'\\n        res = agf.is_start_with(request_uri)\\n        self.assertFalse(res)\\n\\n    def test_is_start_with_5(self):\\n        agf = AccessGatewayFilter()\\n        request_uri = '/def/data'\\n        res = agf.is_start_with(request_uri)\\n        self.assertFalse(res)\",\n",
       "  'solution_code': 'def is_start_with(self, request_uri):\\n        start_with = [\"/api\", \\'/login\\']\\n        for s in start_with:\\n            if request_uri.startswith(s):\\n                return True\\n        return False',\n",
       "  'dependencies': {'Standalone': True,\n",
       "   'lib_dependencies': [],\n",
       "   'field_dependencies': [],\n",
       "   'method_dependencies': []}},\n",
       " {'method_name': 'get_jwt_user',\n",
       "  'method_description': 'def get_jwt_user(self, request):\\n        \"\"\"\\n        Get the user information from the JWT token in the request.\\n        :param request: dict, the incoming request details\\n        :return: dict or None, the user information if the token is valid, None otherwise\\n        >>> filter = AccessGatewayFilter()\\n        >>> filter.get_jwt_user({\\'headers\\': {\\'Authorization\\': {\\'user\\': {\\'name\\': \\'user1\\'}, \\'jwt\\': \\'user1\\'+str(datetime.date.today())}}})\\n        {\\'user\\': {\\'name\\': \\'user1\\'}\\n\\n        \"\"\"',\n",
       "  'test_class': 'AccessGatewayFilterTestGetJwtUser',\n",
       "  'test_code': \"class AccessGatewayFilterTestGetJwtUser(unittest.TestCase):\\n    def test_get_jwt_user_1(self):\\n        agf = AccessGatewayFilter()\\n        request = {\\n            'headers': {'Authorization': {'user': {'name': 'user1'}, 'jwt': 'user1' + str(datetime.date.today())}}}\\n        res = agf.get_jwt_user(request)\\n        self.assertIsNotNone(res)\\n\\n    def test_get_jwt_user_2(self):\\n        agf = AccessGatewayFilter()\\n        request = {\\n            'headers': {'Authorization': {'user': {'name': 'user2'}, 'jwt': 'user2' + str(datetime.date.today())}}}\\n        res = agf.get_jwt_user(request)\\n        self.assertIsNotNone(res)\\n\\n    def test_get_jwt_user_3(self):\\n        agf = AccessGatewayFilter()\\n        request = {\\n            'headers': {'Authorization': {'user': {'name': 'user3'}, 'jwt': 'user3' + str(datetime.date.today())}}}\\n        res = agf.get_jwt_user(request)\\n        self.assertIsNotNone(res)\\n\\n    def test_get_jwt_user_4(self):\\n        agf = AccessGatewayFilter()\\n        request = {\\n            'headers': {'Authorization': {'user': {'name': 'user4'}, 'jwt': 'user4' + str(datetime.date.today())}}}\\n        res = agf.get_jwt_user(request)\\n        self.assertIsNotNone(res)\\n\\n    def test_get_jwt_user_5(self):\\n        agf = AccessGatewayFilter()\\n        request = {'headers': {'Authorization': {'user': {'name': 'user1'}, 'jwt': 'user1' + str(\\n            datetime.date.today() - datetime.timedelta(days=5))}}}\\n        res = agf.get_jwt_user(request)\\n        self.assertIsNone(res)\",\n",
       "  'solution_code': 'def get_jwt_user(self, request):\\n        token = request[\\'headers\\'][\\'Authorization\\']\\n        user = token[\\'user\\']\\n        if token[\\'jwt\\'].startswith(user[\\'name\\']):\\n            jwt_str_date = token[\\'jwt\\'].split(user[\\'name\\'])[1]\\n            jwt_date = datetime.datetime.strptime(jwt_str_date, \"%Y-%m-%d\")\\n            if datetime.datetime.today() - jwt_date >= datetime.timedelta(days=3):\\n                return None\\n        return token',\n",
       "  'dependencies': {'Standalone': False,\n",
       "   'lib_dependencies': ['datetime'],\n",
       "   'field_dependencies': [],\n",
       "   'method_dependencies': []}},\n",
       " {'method_name': 'set_current_user_info_and_log',\n",
       "  'method_description': 'def set_current_user_info_and_log(self, user):\\n        \"\"\"\\n        Set the current user information and log the access.\\n        :param user: dict, the user information\\n        :return: None\\n        >>> filter = AccessGatewayFilter()\\n        >>> user = {\\'name\\': \\'user1\\', \\'address\\': \\'127.0.0.1\\'}\\n        >>> filter.set_current_user_info_and_log(user)\\n\\n        \"\"\"',\n",
       "  'test_class': 'AccessGatewayFilterTest',\n",
       "  'test_code': \"class AccessGatewayFilterTest(unittest.TestCase):\\n    def test_AccessGatewayFilter(self):\\n        agf = AccessGatewayFilter()\\n        request = {'path': '/api/data', 'method': 'GET'}\\n        res = agf.filter(request)\\n        self.assertTrue(res)\\n\\n        request_uri = '/api/data'\\n        res = agf.is_start_with(request_uri)\\n        self.assertTrue(res)\\n\\n        request = {\\n            'headers': {'Authorization': {'user': {'name': 'user1'}, 'jwt': 'user1' + str(datetime.date.today())}}}\\n        res = agf.get_jwt_user(request)\\n        self.assertIsNotNone(res)\",\n",
       "  'solution_code': \"def set_current_user_info_and_log(self, user):\\n        host = user['address']\\n        logging.log(msg=user['name'] + host + str(datetime.datetime.now()), level=1)\",\n",
       "  'dependencies': {'Standalone': False,\n",
       "   'lib_dependencies': ['logging', 'datetime'],\n",
       "   'field_dependencies': [],\n",
       "   'method_dependencies': []}}]"
      ]
     },
     "execution_count": 3,
     "metadata": {},
     "output_type": "execute_result"
    }
   ],
   "source": [
    "ds['methods_info'][0]"
   ]
  },
  {
   "cell_type": "code",
   "execution_count": 4,
   "metadata": {},
   "outputs": [
    {
     "data": {
      "text/plain": [
       "'structure in nested manner\\nskeleton (imports + class definition + class summary + [method definition + method summary])\\nclass_description (class summary)\\nclass_constructor (class definition + constructor function definition + summary + code + fields)\\nsolution_code (class code)\\n    import_statement\\n    class_name\\n    fields\\n    methods_info (array of objects)\\n        method_description (function definition + summary)\\n        solution_code\\n            method_name\\n            dependencies (function names used in code)\\n'"
      ]
     },
     "execution_count": 4,
     "metadata": {},
     "output_type": "execute_result"
    }
   ],
   "source": [
    "\"\"\"structure in nested manner\n",
    "skeleton (imports + class definition + class summary + [method definition + method summary])\n",
    "class_description (class summary)\n",
    "class_constructor (class definition + constructor function definition + summary + code + fields)\n",
    "solution_code (class code)\n",
    "    import_statement\n",
    "    class_name\n",
    "    fields\n",
    "    methods_info (array of objects)\n",
    "        method_description (function definition + summary)\n",
    "        solution_code\n",
    "            method_name\n",
    "            dependencies (function names used in code)\n",
    "\"\"\""
   ]
  },
  {
   "cell_type": "markdown",
   "metadata": {},
   "source": [
    "# Preprocessing"
   ]
  },
  {
   "cell_type": "markdown",
   "metadata": {},
   "source": [
    "### 0. Add ids for each method"
   ]
  },
  {
   "cell_type": "code",
   "execution_count": 5,
   "metadata": {},
   "outputs": [],
   "source": [
    "def add_method_ids(example):\n",
    "    for i, method in enumerate(example['methods_info']):\n",
    "        method['method_id'] = example['task_id'] + '_' + str(i)\n",
    "    return example\n",
    "\n",
    "ds = ds.map(add_method_ids)"
   ]
  },
  {
   "cell_type": "markdown",
   "metadata": {},
   "source": [
    "### 1. Fix and extract summaries for methods (functional description)"
   ]
  },
  {
   "cell_type": "code",
   "execution_count": 6,
   "metadata": {},
   "outputs": [],
   "source": [
    "def add_method_summary(example):\n",
    "    for method in example['methods_info']:\n",
    "        # Extract the method description and clean it up\n",
    "        method_description = re.sub('”“”|“”“', '\"\"\"', method['method_description'])\n",
    "        method_description = re.sub(r'^.*\\\"\\\"\\\"(.*?)(?::param|:return|>>>|\\\"\\\"\\\").*$', r'\\1', method_description, flags=re.DOTALL).strip() \n",
    "        method_summary = re.sub('\\s+', ' ', method_description)\n",
    "        method['method_summary'] = method_summary\n",
    "    return example\n",
    "\n",
    "ds = ds.map(add_method_summary)"
   ]
  },
  {
   "cell_type": "markdown",
   "metadata": {},
   "source": [
    "### 2. Fix and extract summaries for classes (functional description)"
   ]
  },
  {
   "cell_type": "code",
   "execution_count": 7,
   "metadata": {},
   "outputs": [],
   "source": [
    "def add_class_summary(example):\n",
    "    # Extract the class description and clean it up\n",
    "    class_summary = re.sub('”“”|“”“|\"\"\"', '', example['class_description']).strip()\n",
    "    class_summary = re.sub('\\s+', ' ', class_summary)\n",
    "    example['class_summary'] = class_summary\n",
    "    return example\n",
    "\n",
    "ds = ds.map(add_class_summary)"
   ]
  },
  {
   "cell_type": "code",
   "execution_count": 8,
   "metadata": {},
   "outputs": [
    {
     "data": {
      "text/plain": [
       "{'task_id': 'ClassEval_0',\n",
       " 'skeleton': 'import logging\\nimport datetime\\n\\nclass AccessGatewayFilter:\\n    \"\"\"\\n    This class is a filter used for accessing gateway filtering, primarily for authentication and access log recording.\\n    \"\"\"\\n\\n    def __init__(self):\\n        pass\\n\\n    def filter(self, request):\\n        \"\"\"\\n        Filter the incoming request based on certain rules and conditions.\\n        :param request: dict, the incoming request details\\n        :return: bool, True if the request is allowed, False otherwise\\n        >>> filter = AccessGatewayFilter()\\n        >>> filter.filter({\\'path\\': \\'/login\\', \\'method\\': \\'POST\\'})\\n        True\\n\\n        \"\"\"\\n\\n\\n    def is_start_with(self, request_uri):\\n        \"\"\"\\n        Check if the request URI starts with certain prefixes.\\n        :param request_uri: str, the URI of the request\\n        :return: bool, True if the URI starts with certain prefixes, False otherwise\\n        >>> filter = AccessGatewayFilter()\\n        >>> filter.is_start_with(\\'/api/data\\')\\n        True\\n\\n        \"\"\"\\n\\n\\n    def get_jwt_user(self, request):\\n        \"\"\"\\n        Get the user information from the JWT token in the request.\\n        :param request: dict, the incoming request details\\n        :return: dict or None, the user information if the token is valid, None otherwise\\n        >>> filter = AccessGatewayFilter()\\n        >>> filter.get_jwt_user({\\'headers\\': {\\'Authorization\\': {\\'user\\': {\\'name\\': \\'user1\\'}, \\'jwt\\': \\'user1\\'+str(datetime.date.today())}}})\\n        {\\'user\\': {\\'name\\': \\'user1\\'}\\n\\n        \"\"\"\\n\\n    def set_current_user_info_and_log(self, user):\\n        \"\"\"\\n        Set the current user information and log the access.\\n        :param user: dict, the user information\\n        :return: None\\n        >>> filter = AccessGatewayFilter()\\n        >>> user = {\\'name\\': \\'user1\\', \\'address\\': \\'127.0.0.1\\'}\\n        >>> filter.set_current_user_info_and_log(user)\\n\\n        \"\"\"',\n",
       " 'test': \"import unittest\\n\\nclass AccessGatewayFilterTestFilter(unittest.TestCase):\\n    def test_filter_1(self):\\n        agf = AccessGatewayFilter()\\n        request = {'path': '/api/data', 'method': 'GET'}\\n        res = agf.filter(request)\\n        self.assertTrue(res)\\n\\n    def test_filter_2(self):\\n        agf = AccessGatewayFilter()\\n        request = {'path': '/api/data', 'method': 'POST'}\\n        res = agf.filter(request)\\n        self.assertTrue(res)\\n\\n    def test_filter_3(self):\\n        agf = AccessGatewayFilter()\\n        request = {'path': '/login/data', 'method': 'GET'}\\n        res = agf.filter(request)\\n        self.assertTrue(res)\\n\\n    def test_filter_4(self):\\n        agf = AccessGatewayFilter()\\n        request = {'path': '/login/data', 'method': 'POST'}\\n        res = agf.filter(request)\\n        self.assertTrue(res)\\n\\n    def test_filter_5(self):\\n        agf = AccessGatewayFilter()\\n        request = {'path': '/abc', 'method': 'POST',\\n                   'headers': {\\n                       'Authorization': {'user': {'name': 'user1', 'level': 5, 'address': 'address1'},\\n                                         'jwt': 'user1' + str(datetime.date.today())}}}\\n        res = agf.filter(request)\\n        self.assertTrue(res)\\n\\n    def test_filter_6(self):\\n        agf = AccessGatewayFilter()\\n        request = {'path': '/abc', 'method': 'POST',\\n                   'headers': {\\n                       'Authorization': {'user': {'name': 'user1', 'level': 3, 'address': 'address1'},\\n                                         'jwt': 'user1' + str(datetime.date.today() - datetime.timedelta(days=365))}}}\\n        res = agf.filter(request)\\n        self.assertFalse(res)\\n\\n    def test_filter_7(self):\\n        agf = AccessGatewayFilter()\\n        request = {'path': '/abc', 'method': 'POST',\\n                   'headers': {\\n                       'Authorization': {'user': {'name': 'user1', 'level': 1, 'address': 'address1'},\\n                                         'jwt': 'user1' + str(datetime.date.today())}}}\\n        res = agf.filter(request)\\n        self.assertIsNone(res)\\n\\n    def test_filter_8(self):\\n        agf = AccessGatewayFilter()\\n        request = {'path': '/abc', 'method': 'POST',\\n                   'headers': {\\n                       'Authorization': {'user': {'name': 'user1', 'level': 3, 'address': 'address1'},\\n                                         'jwt': 'user2' + str(datetime.date.today() - datetime.timedelta(days=365))}}}\\n        res = agf.filter(request)\\n        self.assertTrue(res)\\n\\n\\nclass AccessGatewayFilterTestIsStartWith(unittest.TestCase):\\n    def test_is_start_with_1(self):\\n        agf = AccessGatewayFilter()\\n        request_uri = '/api/data'\\n        res = agf.is_start_with(request_uri)\\n        self.assertTrue(res)\\n\\n    def test_is_start_with_2(self):\\n        agf = AccessGatewayFilter()\\n        request_uri = '/admin/settings'\\n        res = agf.is_start_with(request_uri)\\n        self.assertFalse(res)\\n\\n    def test_is_start_with_3(self):\\n        agf = AccessGatewayFilter()\\n        request_uri = '/login/data'\\n        res = agf.is_start_with(request_uri)\\n        self.assertTrue(res)\\n\\n    def test_is_start_with_4(self):\\n        agf = AccessGatewayFilter()\\n        request_uri = '/abc/data'\\n        res = agf.is_start_with(request_uri)\\n        self.assertFalse(res)\\n\\n    def test_is_start_with_5(self):\\n        agf = AccessGatewayFilter()\\n        request_uri = '/def/data'\\n        res = agf.is_start_with(request_uri)\\n        self.assertFalse(res)\\n\\n\\nclass AccessGatewayFilterTestGetJwtUser(unittest.TestCase):\\n    def test_get_jwt_user_1(self):\\n        agf = AccessGatewayFilter()\\n        request = {\\n            'headers': {'Authorization': {'user': {'name': 'user1'}, 'jwt': 'user1' + str(datetime.date.today())}}}\\n        res = agf.get_jwt_user(request)\\n        self.assertIsNotNone(res)\\n\\n    def test_get_jwt_user_2(self):\\n        agf = AccessGatewayFilter()\\n        request = {\\n            'headers': {'Authorization': {'user': {'name': 'user2'}, 'jwt': 'user2' + str(datetime.date.today())}}}\\n        res = agf.get_jwt_user(request)\\n        self.assertIsNotNone(res)\\n\\n    def test_get_jwt_user_3(self):\\n        agf = AccessGatewayFilter()\\n        request = {\\n            'headers': {'Authorization': {'user': {'name': 'user3'}, 'jwt': 'user3' + str(datetime.date.today())}}}\\n        res = agf.get_jwt_user(request)\\n        self.assertIsNotNone(res)\\n\\n    def test_get_jwt_user_4(self):\\n        agf = AccessGatewayFilter()\\n        request = {\\n            'headers': {'Authorization': {'user': {'name': 'user4'}, 'jwt': 'user4' + str(datetime.date.today())}}}\\n        res = agf.get_jwt_user(request)\\n        self.assertIsNotNone(res)\\n\\n    def test_get_jwt_user_5(self):\\n        agf = AccessGatewayFilter()\\n        request = {'headers': {'Authorization': {'user': {'name': 'user1'}, 'jwt': 'user1' + str(\\n            datetime.date.today() - datetime.timedelta(days=5))}}}\\n        res = agf.get_jwt_user(request)\\n        self.assertIsNone(res)\\n\\n\\nclass AccessGatewayFilterTest(unittest.TestCase):\\n    def test_AccessGatewayFilter(self):\\n        agf = AccessGatewayFilter()\\n        request = {'path': '/api/data', 'method': 'GET'}\\n        res = agf.filter(request)\\n        self.assertTrue(res)\\n\\n        request_uri = '/api/data'\\n        res = agf.is_start_with(request_uri)\\n        self.assertTrue(res)\\n\\n        request = {\\n            'headers': {'Authorization': {'user': {'name': 'user1'}, 'jwt': 'user1' + str(datetime.date.today())}}}\\n        res = agf.get_jwt_user(request)\\n        self.assertIsNotNone(res)\",\n",
       " 'solution_code': 'import logging\\nimport datetime\\n\\n\\nclass AccessGatewayFilter:\\n\\n    def __init__(self):\\n        pass\\n\\n    def filter(self, request):\\n        request_uri = request[\\'path\\']\\n        method = request[\\'method\\']\\n\\n        if self.is_start_with(request_uri):\\n            return True\\n\\n        try:\\n            token = self.get_jwt_user(request)\\n            user = token[\\'user\\']\\n            if user[\\'level\\'] > 2:\\n                self.set_current_user_info_and_log(user)\\n                return True\\n        except:\\n            return False\\n\\n    def is_start_with(self, request_uri):\\n        start_with = [\"/api\", \\'/login\\']\\n        for s in start_with:\\n            if request_uri.startswith(s):\\n                return True\\n        return False\\n\\n    def get_jwt_user(self, request):\\n        token = request[\\'headers\\'][\\'Authorization\\']\\n        user = token[\\'user\\']\\n        if token[\\'jwt\\'].startswith(user[\\'name\\']):\\n            jwt_str_date = token[\\'jwt\\'].split(user[\\'name\\'])[1]\\n            jwt_date = datetime.datetime.strptime(jwt_str_date, \"%Y-%m-%d\")\\n            if datetime.datetime.today() - jwt_date >= datetime.timedelta(days=3):\\n                return None\\n        return token\\n\\n    def set_current_user_info_and_log(self, user):\\n        host = user[\\'address\\']\\n        logging.log(msg=user[\\'name\\'] + host + str(datetime.datetime.now()), level=1)',\n",
       " 'import_statement': ['import logging', 'import datetime'],\n",
       " 'class_description': '    \"\"\"\\n    This class is a filter used for accessing gateway filtering, primarily for authentication and access log recording.\\n    \"\"\"\\n',\n",
       " 'methods_info': [{'dependencies': {'Standalone': False,\n",
       "    'field_dependencies': [],\n",
       "    'lib_dependencies': [],\n",
       "    'method_dependencies': ['is_start_with',\n",
       "     'get_jwt_user',\n",
       "     'set_current_user_info_and_log']},\n",
       "   'method_description': 'def filter(self, request):\\n        \"\"\"\\n        Filter the incoming request based on certain rules and conditions.\\n        :param request: dict, the incoming request details\\n        :return: bool, True if the request is allowed, False otherwise\\n        >>> filter = AccessGatewayFilter()\\n        >>> filter.filter({\\'path\\': \\'/login\\', \\'method\\': \\'POST\\'})\\n        True\\n\\n        \"\"\"',\n",
       "   'method_id': 'ClassEval_0_0',\n",
       "   'method_name': 'filter',\n",
       "   'method_summary': 'Filter the incoming request based on certain rules and conditions.',\n",
       "   'solution_code': \"def filter(self, request):\\n        request_uri = request['path']\\n        method = request['method']\\n\\n        if self.is_start_with(request_uri):\\n            return True\\n\\n        try:\\n            token = self.get_jwt_user(request)\\n            user = token['user']\\n            if user['level'] > 2:\\n                self.set_current_user_info_and_log(user)\\n                return True\\n        except:\\n            return False\",\n",
       "   'test_class': 'AccessGatewayFilterTestFilter',\n",
       "   'test_code': \"class AccessGatewayFilterTestFilter(unittest.TestCase):\\n    def test_filter_1(self):\\n        agf = AccessGatewayFilter()\\n        request = {'path': '/api/data', 'method': 'GET'}\\n        res = agf.filter(request)\\n        self.assertTrue(res)\\n\\n    def test_filter_2(self):\\n        agf = AccessGatewayFilter()\\n        request = {'path': '/api/data', 'method': 'POST'}\\n        res = agf.filter(request)\\n        self.assertTrue(res)\\n\\n    def test_filter_3(self):\\n        agf = AccessGatewayFilter()\\n        request = {'path': '/login/data', 'method': 'GET'}\\n        res = agf.filter(request)\\n        self.assertTrue(res)\\n\\n    def test_filter_4(self):\\n        agf = AccessGatewayFilter()\\n        request = {'path': '/login/data', 'method': 'POST'}\\n        res = agf.filter(request)\\n        self.assertTrue(res)\\n\\n    def test_filter_5(self):\\n        agf = AccessGatewayFilter()\\n        request = {'path': '/abc', 'method': 'POST',\\n                   'headers': {\\n                       'Authorization': {'user': {'name': 'user1', 'level': 5, 'address': 'address1'},\\n                                         'jwt': 'user1' + str(datetime.date.today())}}}\\n        res = agf.filter(request)\\n        self.assertTrue(res)\\n\\n    def test_filter_6(self):\\n        agf = AccessGatewayFilter()\\n        request = {'path': '/abc', 'method': 'POST',\\n                   'headers': {\\n                       'Authorization': {'user': {'name': 'user1', 'level': 3, 'address': 'address1'},\\n                                         'jwt': 'user1' + str(datetime.date.today() - datetime.timedelta(days=365))}}}\\n        res = agf.filter(request)\\n        self.assertFalse(res)\\n\\n    def test_filter_7(self):\\n        agf = AccessGatewayFilter()\\n        request = {'path': '/abc', 'method': 'POST',\\n                   'headers': {\\n                       'Authorization': {'user': {'name': 'user1', 'level': 1, 'address': 'address1'},\\n                                         'jwt': 'user1' + str(datetime.date.today())}}}\\n        res = agf.filter(request)\\n        self.assertIsNone(res)\\n\\n    def test_filter_8(self):\\n        agf = AccessGatewayFilter()\\n        request = {'path': '/abc', 'method': 'POST',\\n                   'headers': {\\n                       'Authorization': {'user': {'name': 'user1', 'level': 3, 'address': 'address1'},\\n                                         'jwt': 'user2' + str(datetime.date.today() - datetime.timedelta(days=365))}}}\\n        res = agf.filter(request)\\n        self.assertTrue(res)\"},\n",
       "  {'dependencies': {'Standalone': True,\n",
       "    'field_dependencies': [],\n",
       "    'lib_dependencies': [],\n",
       "    'method_dependencies': []},\n",
       "   'method_description': 'def is_start_with(self, request_uri):\\n        \"\"\"\\n        Check if the request URI starts with certain prefixes.\\n        :param request_uri: str, the URI of the request\\n        :return: bool, True if the URI starts with certain prefixes, False otherwise\\n        >>> filter = AccessGatewayFilter()\\n        >>> filter.is_start_with(\\'/api/data\\')\\n        True\\n\\n        \"\"\"',\n",
       "   'method_id': 'ClassEval_0_1',\n",
       "   'method_name': 'is_start_with',\n",
       "   'method_summary': 'Check if the request URI starts with certain prefixes.',\n",
       "   'solution_code': 'def is_start_with(self, request_uri):\\n        start_with = [\"/api\", \\'/login\\']\\n        for s in start_with:\\n            if request_uri.startswith(s):\\n                return True\\n        return False',\n",
       "   'test_class': 'AccessGatewayFilterTestIsStartWith',\n",
       "   'test_code': \"class AccessGatewayFilterTestIsStartWith(unittest.TestCase):\\n    def test_is_start_with_1(self):\\n        agf = AccessGatewayFilter()\\n        request_uri = '/api/data'\\n        res = agf.is_start_with(request_uri)\\n        self.assertTrue(res)\\n\\n    def test_is_start_with_2(self):\\n        agf = AccessGatewayFilter()\\n        request_uri = '/admin/settings'\\n        res = agf.is_start_with(request_uri)\\n        self.assertFalse(res)\\n\\n    def test_is_start_with_3(self):\\n        agf = AccessGatewayFilter()\\n        request_uri = '/login/data'\\n        res = agf.is_start_with(request_uri)\\n        self.assertTrue(res)\\n\\n    def test_is_start_with_4(self):\\n        agf = AccessGatewayFilter()\\n        request_uri = '/abc/data'\\n        res = agf.is_start_with(request_uri)\\n        self.assertFalse(res)\\n\\n    def test_is_start_with_5(self):\\n        agf = AccessGatewayFilter()\\n        request_uri = '/def/data'\\n        res = agf.is_start_with(request_uri)\\n        self.assertFalse(res)\"},\n",
       "  {'dependencies': {'Standalone': False,\n",
       "    'field_dependencies': [],\n",
       "    'lib_dependencies': ['datetime'],\n",
       "    'method_dependencies': []},\n",
       "   'method_description': 'def get_jwt_user(self, request):\\n        \"\"\"\\n        Get the user information from the JWT token in the request.\\n        :param request: dict, the incoming request details\\n        :return: dict or None, the user information if the token is valid, None otherwise\\n        >>> filter = AccessGatewayFilter()\\n        >>> filter.get_jwt_user({\\'headers\\': {\\'Authorization\\': {\\'user\\': {\\'name\\': \\'user1\\'}, \\'jwt\\': \\'user1\\'+str(datetime.date.today())}}})\\n        {\\'user\\': {\\'name\\': \\'user1\\'}\\n\\n        \"\"\"',\n",
       "   'method_id': 'ClassEval_0_2',\n",
       "   'method_name': 'get_jwt_user',\n",
       "   'method_summary': 'Get the user information from the JWT token in the request.',\n",
       "   'solution_code': 'def get_jwt_user(self, request):\\n        token = request[\\'headers\\'][\\'Authorization\\']\\n        user = token[\\'user\\']\\n        if token[\\'jwt\\'].startswith(user[\\'name\\']):\\n            jwt_str_date = token[\\'jwt\\'].split(user[\\'name\\'])[1]\\n            jwt_date = datetime.datetime.strptime(jwt_str_date, \"%Y-%m-%d\")\\n            if datetime.datetime.today() - jwt_date >= datetime.timedelta(days=3):\\n                return None\\n        return token',\n",
       "   'test_class': 'AccessGatewayFilterTestGetJwtUser',\n",
       "   'test_code': \"class AccessGatewayFilterTestGetJwtUser(unittest.TestCase):\\n    def test_get_jwt_user_1(self):\\n        agf = AccessGatewayFilter()\\n        request = {\\n            'headers': {'Authorization': {'user': {'name': 'user1'}, 'jwt': 'user1' + str(datetime.date.today())}}}\\n        res = agf.get_jwt_user(request)\\n        self.assertIsNotNone(res)\\n\\n    def test_get_jwt_user_2(self):\\n        agf = AccessGatewayFilter()\\n        request = {\\n            'headers': {'Authorization': {'user': {'name': 'user2'}, 'jwt': 'user2' + str(datetime.date.today())}}}\\n        res = agf.get_jwt_user(request)\\n        self.assertIsNotNone(res)\\n\\n    def test_get_jwt_user_3(self):\\n        agf = AccessGatewayFilter()\\n        request = {\\n            'headers': {'Authorization': {'user': {'name': 'user3'}, 'jwt': 'user3' + str(datetime.date.today())}}}\\n        res = agf.get_jwt_user(request)\\n        self.assertIsNotNone(res)\\n\\n    def test_get_jwt_user_4(self):\\n        agf = AccessGatewayFilter()\\n        request = {\\n            'headers': {'Authorization': {'user': {'name': 'user4'}, 'jwt': 'user4' + str(datetime.date.today())}}}\\n        res = agf.get_jwt_user(request)\\n        self.assertIsNotNone(res)\\n\\n    def test_get_jwt_user_5(self):\\n        agf = AccessGatewayFilter()\\n        request = {'headers': {'Authorization': {'user': {'name': 'user1'}, 'jwt': 'user1' + str(\\n            datetime.date.today() - datetime.timedelta(days=5))}}}\\n        res = agf.get_jwt_user(request)\\n        self.assertIsNone(res)\"},\n",
       "  {'dependencies': {'Standalone': False,\n",
       "    'field_dependencies': [],\n",
       "    'lib_dependencies': ['logging', 'datetime'],\n",
       "    'method_dependencies': []},\n",
       "   'method_description': 'def set_current_user_info_and_log(self, user):\\n        \"\"\"\\n        Set the current user information and log the access.\\n        :param user: dict, the user information\\n        :return: None\\n        >>> filter = AccessGatewayFilter()\\n        >>> user = {\\'name\\': \\'user1\\', \\'address\\': \\'127.0.0.1\\'}\\n        >>> filter.set_current_user_info_and_log(user)\\n\\n        \"\"\"',\n",
       "   'method_id': 'ClassEval_0_3',\n",
       "   'method_name': 'set_current_user_info_and_log',\n",
       "   'method_summary': 'Set the current user information and log the access.',\n",
       "   'solution_code': \"def set_current_user_info_and_log(self, user):\\n        host = user['address']\\n        logging.log(msg=user['name'] + host + str(datetime.datetime.now()), level=1)\",\n",
       "   'test_class': 'AccessGatewayFilterTest',\n",
       "   'test_code': \"class AccessGatewayFilterTest(unittest.TestCase):\\n    def test_AccessGatewayFilter(self):\\n        agf = AccessGatewayFilter()\\n        request = {'path': '/api/data', 'method': 'GET'}\\n        res = agf.filter(request)\\n        self.assertTrue(res)\\n\\n        request_uri = '/api/data'\\n        res = agf.is_start_with(request_uri)\\n        self.assertTrue(res)\\n\\n        request = {\\n            'headers': {'Authorization': {'user': {'name': 'user1'}, 'jwt': 'user1' + str(datetime.date.today())}}}\\n        res = agf.get_jwt_user(request)\\n        self.assertIsNotNone(res)\"}],\n",
       " 'class_name': 'AccessGatewayFilter',\n",
       " 'test_classes': ['AccessGatewayFilterTestFilter',\n",
       "  'AccessGatewayFilterTestIsStartWith',\n",
       "  'AccessGatewayFilterTestGetJwtUser',\n",
       "  'AccessGatewayFilterTest'],\n",
       " 'class_constructor': 'class AccessGatewayFilter: \\n    def __init__(self):\\n        pass\\n\\n',\n",
       " 'fields': [],\n",
       " 'class_summary': 'This class is a filter used for accessing gateway filtering, primarily for authentication and access log recording.'}"
      ]
     },
     "execution_count": 8,
     "metadata": {},
     "output_type": "execute_result"
    }
   ],
   "source": [
    "ds[0]"
   ]
  },
  {
   "cell_type": "markdown",
   "metadata": {},
   "source": [
    "### EDA"
   ]
  },
  {
   "cell_type": "code",
   "execution_count": 9,
   "metadata": {},
   "outputs": [
    {
     "data": {
      "text/html": [
       "<div>\n",
       "<style scoped>\n",
       "    .dataframe tbody tr th:only-of-type {\n",
       "        vertical-align: middle;\n",
       "    }\n",
       "\n",
       "    .dataframe tbody tr th {\n",
       "        vertical-align: top;\n",
       "    }\n",
       "\n",
       "    .dataframe thead th {\n",
       "        text-align: right;\n",
       "    }\n",
       "</style>\n",
       "<table border=\"1\" class=\"dataframe\">\n",
       "  <thead>\n",
       "    <tr style=\"text-align: right;\">\n",
       "      <th></th>\n",
       "      <th>task_id</th>\n",
       "      <th>skeleton</th>\n",
       "      <th>test</th>\n",
       "      <th>solution_code</th>\n",
       "      <th>import_statement</th>\n",
       "      <th>class_description</th>\n",
       "      <th>methods_info</th>\n",
       "      <th>class_name</th>\n",
       "      <th>test_classes</th>\n",
       "      <th>class_constructor</th>\n",
       "      <th>fields</th>\n",
       "      <th>class_summary</th>\n",
       "    </tr>\n",
       "  </thead>\n",
       "  <tbody>\n",
       "    <tr>\n",
       "      <th>0</th>\n",
       "      <td>ClassEval_0</td>\n",
       "      <td>import logging\\nimport datetime\\n\\nclass Acces...</td>\n",
       "      <td>import unittest\\n\\nclass AccessGatewayFilterTe...</td>\n",
       "      <td>import logging\\nimport datetime\\n\\n\\nclass Acc...</td>\n",
       "      <td>[import logging, import datetime]</td>\n",
       "      <td>\"\"\"\\n    This class is a filter used for a...</td>\n",
       "      <td>[{'dependencies': {'Standalone': False, 'field...</td>\n",
       "      <td>AccessGatewayFilter</td>\n",
       "      <td>[AccessGatewayFilterTestFilter, AccessGatewayF...</td>\n",
       "      <td>class AccessGatewayFilter: \\n    def __init__(...</td>\n",
       "      <td>[]</td>\n",
       "      <td>This class is a filter used for accessing gate...</td>\n",
       "    </tr>\n",
       "  </tbody>\n",
       "</table>\n",
       "</div>"
      ],
      "text/plain": [
       "       task_id                                           skeleton  \\\n",
       "0  ClassEval_0  import logging\\nimport datetime\\n\\nclass Acces...   \n",
       "\n",
       "                                                test  \\\n",
       "0  import unittest\\n\\nclass AccessGatewayFilterTe...   \n",
       "\n",
       "                                       solution_code  \\\n",
       "0  import logging\\nimport datetime\\n\\n\\nclass Acc...   \n",
       "\n",
       "                    import_statement  \\\n",
       "0  [import logging, import datetime]   \n",
       "\n",
       "                                   class_description  \\\n",
       "0      \"\"\"\\n    This class is a filter used for a...   \n",
       "\n",
       "                                        methods_info           class_name  \\\n",
       "0  [{'dependencies': {'Standalone': False, 'field...  AccessGatewayFilter   \n",
       "\n",
       "                                        test_classes  \\\n",
       "0  [AccessGatewayFilterTestFilter, AccessGatewayF...   \n",
       "\n",
       "                                   class_constructor fields  \\\n",
       "0  class AccessGatewayFilter: \\n    def __init__(...     []   \n",
       "\n",
       "                                       class_summary  \n",
       "0  This class is a filter used for accessing gate...  "
      ]
     },
     "execution_count": 9,
     "metadata": {},
     "output_type": "execute_result"
    }
   ],
   "source": [
    "df = ds.to_pandas()\n",
    "df.head(1)"
   ]
  },
  {
   "cell_type": "code",
   "execution_count": 12,
   "metadata": {},
   "outputs": [
    {
     "name": "stdout",
     "output_type": "stream",
     "text": [
      "task_id              0\n",
      "skeleton             0\n",
      "test                 0\n",
      "solution_code        0\n",
      "import_statement     0\n",
      "class_description    0\n",
      "methods_info         0\n",
      "class_name           0\n",
      "test_classes         0\n",
      "class_constructor    0\n",
      "fields               0\n",
      "class_summary        0\n",
      "dtype: int64\n"
     ]
    }
   ],
   "source": [
    "print(df.isnull().sum())"
   ]
  },
  {
   "cell_type": "code",
   "execution_count": 20,
   "metadata": {},
   "outputs": [
    {
     "data": {
      "image/png": "[encoded data removed]",
      "text/plain": [
       "<Figure size 1000x600 with 1 Axes>"
      ]
     },
     "metadata": {},
     "output_type": "display_data"
    }
   ],
   "source": [
    "df_expanded = df.explode('methods_info').reset_index(drop=True)\n",
    "df_expanded['method_summary_length'] = df_expanded['methods_info'].apply(lambda x: len(x['method_summary']) if x['method_summary'] else 0)\n",
    "\n",
    "plt.figure(figsize=(10, 6))\n",
    "sns.histplot(data=df_expanded, x='method_summary_length', bins=100, kde=True, color='green')\n",
    "plt.title('ClassEval: Distribution of Method Summary Lengths')\n",
    "plt.xlabel('Length')\n",
    "plt.xticks(np.arange(0, 550, 25))\n",
    "plt.ylabel('Frequency')\n",
    "plt.show()"
   ]
  },
  {
   "cell_type": "code",
   "execution_count": 30,
   "metadata": {},
   "outputs": [
    {
     "data": {
      "image/png": "[encoded data removed]",
      "text/plain": [
       "<Figure size 1000x600 with 1 Axes>"
      ]
     },
     "metadata": {},
     "output_type": "display_data"
    }
   ],
   "source": [
    "df['class_summary_length'] = df['class_summary'].apply(len)\n",
    "\n",
    "plt.figure(figsize=(10, 6))\n",
    "sns.histplot(data=df, x='class_summary_length', bins=25, kde=True, color='green')\n",
    "plt.title('Distribution of Class Summary Lengths')\n",
    "plt.xlabel('Length')\n",
    "plt.xticks(np.arange(0, 250, 25))\n",
    "plt.ylabel('Frequency')\n",
    "plt.show()"
   ]
  },
  {
   "cell_type": "markdown",
   "metadata": {},
   "source": [
    "### Create a directory"
   ]
  },
  {
   "cell_type": "code",
   "execution_count": 10,
   "metadata": {},
   "outputs": [],
   "source": [
    "DATA_DIR = Path('../../data/preprocessed/')\n",
    "DATA_DIR.mkdir(parents=True, exist_ok=True)"
   ]
  },
  {
   "cell_type": "markdown",
   "metadata": {},
   "source": [
    "## Method-level"
   ]
  },
  {
   "cell_type": "markdown",
   "metadata": {},
   "source": [
    "### 0. Take 10 examples of method code + method summary for few-shot learning"
   ]
  },
  {
   "cell_type": "code",
   "execution_count": 10,
   "metadata": {},
   "outputs": [
    {
     "name": "stdout",
     "output_type": "stream",
     "text": [
      "['Stops the current song in the playlist.',\n",
      " 'Get the status of specific order.',\n",
      " 'Remove a user from the Chat.',\n",
      " 'Deposits a certain amount into the account, increasing the account balance, '\n",
      " 'return the current account balance. If amount is negative, raise a '\n",
      " 'ValueError(\"Invalid amount\").',\n",
      " 'Inserts coins into the vending machine.',\n",
      " 'According to product_id, add the quantity to the corresponding product in '\n",
      " 'inventory.',\n",
      " 'Extract all zip files and place them in the specified path',\n",
      " 'Generate regular expression patterns that match the middle characters of two '\n",
      " 'sentences',\n",
      " 'Calculate the average value of a group of data, accurate to two digits after '\n",
      " 'the Decimal separator',\n",
      " 'Converts a two-digit number into words format']\n"
     ]
    }
   ],
   "source": [
    "data = []\n",
    "\n",
    "for item in ds:\n",
    "    for method in item['methods_info']:\n",
    "        method_id = method['method_id']\n",
    "        method_code = method['solution_code']\n",
    "        method_summary = method['method_summary']\n",
    "\n",
    "        data.append({'method_id': method_id, 'method_code': method_code, 'method_summary': method_summary})\n",
    "\n",
    "df = pd.DataFrame(data)\n",
    "df.head(1)\n",
    "\n",
    "np.random.seed(7)\n",
    "sampled_df = df.sample(n=10)\n",
    "sampled_list = sampled_df.to_dict(orient='records')\n",
    "pprint([i['method_summary'] for i in sampled_list])"
   ]
  },
  {
   "cell_type": "code",
   "execution_count": 11,
   "metadata": {},
   "outputs": [],
   "source": [
    "file_path = DATA_DIR / \"method-level-mce-few-shot.jsonl\"\n",
    "with open(file_path, 'w') as f:\n",
    "    for item in sampled_list:\n",
    "        json.dump(item, f)\n",
    "        f.write('\\n')"
   ]
  },
  {
   "cell_type": "code",
   "execution_count": 12,
   "metadata": {},
   "outputs": [
    {
     "data": {
      "text/plain": [
       "['ClassEval_61_3',\n",
       " 'ClassEval_95_5',\n",
       " 'ClassEval_20_1',\n",
       " 'ClassEval_8_0',\n",
       " 'ClassEval_94_1',\n",
       " 'ClassEval_95_1',\n",
       " 'ClassEval_99_1',\n",
       " 'ClassEval_72_6',\n",
       " 'ClassEval_29_0',\n",
       " 'ClassEval_65_2']"
      ]
     },
     "execution_count": 12,
     "metadata": {},
     "output_type": "execute_result"
    }
   ],
   "source": [
    "few_shot_ids = sampled_df['method_id'].values.tolist()\n",
    "few_shot_ids"
   ]
  },
  {
   "cell_type": "code",
   "execution_count": 13,
   "metadata": {},
   "outputs": [
    {
     "data": {
      "text/plain": [
       "{'method_id': 'ClassEval_8_0',\n",
       " 'method_code': 'def deposit(self, amount):\\n        if amount < 0:\\n            raise ValueError(\"Invalid amount\")\\n        self.balance += amount\\n        return self.balance',\n",
       " 'method_summary': 'Deposits a certain amount into the account, increasing the account balance, return the current account balance. If amount is negative, raise a ValueError(\"Invalid amount\").'}"
      ]
     },
     "execution_count": 13,
     "metadata": {},
     "output_type": "execute_result"
    }
   ],
   "source": [
    "sampled_list[3]"
   ]
  },
  {
   "cell_type": "markdown",
   "metadata": {},
   "source": [
    "### 1. Method code + method summary"
   ]
  },
  {
   "cell_type": "code",
   "execution_count": 45,
   "metadata": {},
   "outputs": [
    {
     "data": {
      "text/plain": [
       "\"methods\\n[\\n    [{\\n        'method_code': raw str\\n        'method_summary': str (label)\\n    }]\\n]\\n\""
      ]
     },
     "execution_count": 45,
     "metadata": {},
     "output_type": "execute_result"
    }
   ],
   "source": [
    "\"\"\"methods\n",
    "[\n",
    "    [{\n",
    "        'method_code': raw str\n",
    "        'method_summary': str (label)\n",
    "    }]\n",
    "]\n",
    "\"\"\""
   ]
  },
  {
   "cell_type": "code",
   "execution_count": 46,
   "metadata": {},
   "outputs": [],
   "source": [
    "# file_path = DATA_DIR / \"method-level.jsonl\"\n",
    "# with open(file_path, 'w') as f:\n",
    "#     for item in ds:\n",
    "#         for method in item['methods_info']:\n",
    "#             if method['method_id'] in few_shot_ids:\n",
    "#                 continue\n",
    "#             method_code = method['solution_code']\n",
    "#             method_summary = method['method_summary']\n",
    "#             f.write(json.dumps({'class_id': item['task_id'] + '_sum', 'method_code': method_code, 'method_summary': method_summary}) + \"\\n\")"
   ]
  },
  {
   "cell_type": "markdown",
   "metadata": {},
   "source": [
    "### 2. Method code with class code + method summary"
   ]
  },
  {
   "cell_type": "code",
   "execution_count": 14,
   "metadata": {},
   "outputs": [
    {
     "data": {
      "text/plain": [
       "\"\\n[\\n    [{\\n        'class_code': raw str without method_x\\n        'method_x_code' : raw str\\n        'method_x_summary': str (label)\\n    }]\\n]\\n\""
      ]
     },
     "execution_count": 14,
     "metadata": {},
     "output_type": "execute_result"
    }
   ],
   "source": [
    "\"\"\"\n",
    "[\n",
    "    [{\n",
    "        'class_code': raw str without method_x\n",
    "        'method_x_code' : raw str\n",
    "        'method_x_summary': str (label)\n",
    "    }]\n",
    "]\n",
    "\"\"\""
   ]
  },
  {
   "cell_type": "code",
   "execution_count": 13,
   "metadata": {},
   "outputs": [
    {
     "name": "stdout",
     "output_type": "stream",
     "text": [
      "import logging\n",
      "import datetime\n",
      "\n",
      "\n",
      "class AccessGatewayFilter:\n",
      "    \"\"\"\n",
      "    This class is a filter used for accessing gateway filtering, primarily for authentication and access log recording.\n",
      "    \"\"\"\n",
      "\n",
      "    def __init__(self):\n",
      "        pass\n",
      "\n",
      "    def is_start_with(self, request_uri):\n",
      "        \"\"\"\n",
      "        Check if the request URI starts with certain prefixes.\n",
      "        :param request_uri: str, the URI of the request\n",
      "        :return: bool, True if the URI starts with certain prefixes, False otherwise\n",
      "        >>> filter = AccessGatewayFilter()\n",
      "        >>> filter.is_start_with('/api/data')\n",
      "        True\n",
      "\n",
      "        \"\"\"\n",
      "\n",
      "        start_with = [\"/api\", '/login']\n",
      "        for s in start_with:\n",
      "            if request_uri.startswith(s):\n",
      "                return True\n",
      "        return False\n",
      "\n",
      "    def get_jwt_user(self, request):\n",
      "        \"\"\"\n",
      "        Get the user information from the JWT token in the request.\n",
      "        :param request: dict, the incoming request details\n",
      "        :return: dict or None, the user information if the token is valid, None otherwise\n",
      "        >>> filter = AccessGatewayFilter()\n",
      "        >>> filter.get_jwt_user({'headers': {'Authorization': {'user': {'name': 'user1'}, 'jwt': 'user1'+str(datetime.date.today())}}})\n",
      "        {'user': {'name': 'user1'}\n",
      "\n",
      "        \"\"\"\n",
      "\n",
      "        token = request['headers']['Authorization']\n",
      "        user = token['user']\n",
      "        if token['jwt'].startswith(user['name']):\n",
      "            jwt_str_date = token['jwt'].split(user['name'])[1]\n",
      "            jwt_date = datetime.datetime.strptime(jwt_str_date, \"%Y-%m-%d\")\n",
      "            if datetime.datetime.today() - jwt_date >= datetime.timedelta(days=3):\n",
      "                return None\n",
      "        return token\n",
      "\n",
      "    def set_current_user_info_and_log(self, user):\n",
      "        \"\"\"\n",
      "        Set the current user information and log the access.\n",
      "        :param user: dict, the user information\n",
      "        :return: None\n",
      "        >>> filter = AccessGatewayFilter()\n",
      "        >>> user = {'name': 'user1', 'address': '127.0.0.1'}\n",
      "        >>> filter.set_current_user_info_and_log(user)\n",
      "\n",
      "        \"\"\"\n",
      "\n",
      "        host = user['address']\n",
      "        logging.log(msg=user['name'] + host + str(datetime.datetime.now()), level=1)\n",
      "def filter(self, request):\n",
      "        request_uri = request['path']\n",
      "        method = request['method']\n",
      "\n",
      "        if self.is_start_with(request_uri):\n",
      "            return True\n",
      "\n",
      "        try:\n",
      "            token = self.get_jwt_user(request)\n",
      "            user = token['user']\n",
      "            if user['level'] > 2:\n",
      "                self.set_current_user_info_and_log(user)\n",
      "                return True\n",
      "        except:\n",
      "            return False\n",
      "Filter the incoming request based on certain rules and conditions.\n"
     ]
    }
   ],
   "source": [
    "file_path = DATA_DIR / \"method-level-mce.jsonl\"\n",
    "with open(file_path, \"w\") as f:\n",
    "    for item in ds:\n",
    "        # Merge of class code and skeleton\n",
    "        class_constructor = (\n",
    "            item[\"class_constructor\"][: item[\"class_constructor\"].index(\":\") + 1] + \"\\n\"\n",
    "        )\n",
    "        class_code = item[\"solution_code\"].replace(\n",
    "            class_constructor, class_constructor + item[\"class_description\"]\n",
    "        )\n",
    "        skeleton = item[\"skeleton\"]\n",
    "        # Remove ith method making variations equal to number of method in class\n",
    "        for i in range(len(item[\"methods_info\"])):\n",
    "            if item[\"methods_info\"][i][\"method_id\"] in few_shot_ids:\n",
    "                continue\n",
    "            class_code_i = copy(class_code)\n",
    "            skeleton_i = copy(skeleton)\n",
    "            for j, method in enumerate(item[\"methods_info\"]):\n",
    "                if method[\"method_id\"] in few_shot_ids:\n",
    "                    class_code_i = class_code_i.replace(\n",
    "                        \"    \" + method[\"solution_code\"] + \"\\n\\n\", \"\"\n",
    "                    )\n",
    "                    skeleton_i = skeleton_i.replace(\n",
    "                        method[\"method_description\"] + \"\\n\", \"\"\n",
    "                    )\n",
    "                    continue\n",
    "                if i == j:\n",
    "                    class_code_i = class_code_i.replace(\n",
    "                        \"    \" + method[\"solution_code\"] + \"\\n\\n\", \"\"\n",
    "                    )\n",
    "                    skeleton_i = skeleton_i.replace(\n",
    "                        method[\"method_description\"] + \"\\n\", \"\"\n",
    "                    )\n",
    "                    method_code = method[\"solution_code\"]\n",
    "                    method_summary = method[\"method_summary\"]\n",
    "                    continue\n",
    "                pattern = method[\"method_description\"][\n",
    "                    : method[\"method_description\"].index(\":\") + 1\n",
    "                ]\n",
    "                class_code_i = class_code_i.replace(\n",
    "                    pattern, method[\"method_description\"] + \"\\n\"\n",
    "                )\n",
    "            f.write(\n",
    "                json.dumps(\n",
    "                    {\n",
    "                        \"class_id\": item[\"task_id\"] + \"_sum\",\n",
    "                        \"class_code\": class_code_i,\n",
    "                        \"skeleton\": skeleton_i,\n",
    "                        \"method_code\": method_code,\n",
    "                        \"method_summary\": method_summary,\n",
    "                    }\n",
    "                )\n",
    "                + \"\\n\"\n",
    "            )\n",
    "\n",
    "with open(file_path) as f:\n",
    "    for line in f:\n",
    "        line = json.loads(line)\n",
    "        print(line[\"class_code\"])\n",
    "        print(line[\"method_code\"])\n",
    "        print(line[\"method_summary\"])\n",
    "        break"
   ]
  },
  {
   "cell_type": "markdown",
   "metadata": {},
   "source": [
    "### 3. Method code with skeleton + method summary"
   ]
  },
  {
   "cell_type": "code",
   "execution_count": 51,
   "metadata": {},
   "outputs": [
    {
     "data": {
      "text/plain": [
       "\"\\n[\\n    [{\\n        'skeleton': raw str without method_x\\n        'method_x_code' : raw str\\n        'method_x_summary': str (label)\\n    }]\\n]\\n\""
      ]
     },
     "execution_count": 51,
     "metadata": {},
     "output_type": "execute_result"
    }
   ],
   "source": [
    "\"\"\"\n",
    "[\n",
    "    [{\n",
    "        'skeleton': raw str without method_x\n",
    "        'method_x_code' : raw str\n",
    "        'method_x_summary': str (label)\n",
    "    }]\n",
    "]\n",
    "\"\"\""
   ]
  },
  {
   "cell_type": "code",
   "execution_count": 19,
   "metadata": {},
   "outputs": [
    {
     "name": "stdout",
     "output_type": "stream",
     "text": [
      "import logging\n",
      "import datetime\n",
      "\n",
      "class AccessGatewayFilter:\n",
      "    \"\"\"\n",
      "    This class is a filter used for accessing gateway filtering, primarily for authentication and access log recording.\n",
      "    \"\"\"\n",
      "\n",
      "    def __init__(self):\n",
      "        pass\n",
      "\n",
      "    \n",
      "\n",
      "    def is_start_with(self, request_uri):\n",
      "        \"\"\"\n",
      "        Check if the request URI starts with certain prefixes.\n",
      "        :param request_uri: str, the URI of the request\n",
      "        :return: bool, True if the URI starts with certain prefixes, False otherwise\n",
      "        >>> filter = AccessGatewayFilter()\n",
      "        >>> filter.is_start_with('/api/data')\n",
      "        True\n",
      "\n",
      "        \"\"\"\n",
      "\n",
      "\n",
      "    def get_jwt_user(self, request):\n",
      "        \"\"\"\n",
      "        Get the user information from the JWT token in the request.\n",
      "        :param request: dict, the incoming request details\n",
      "        :return: dict or None, the user information if the token is valid, None otherwise\n",
      "        >>> filter = AccessGatewayFilter()\n",
      "        >>> filter.get_jwt_user({'headers': {'Authorization': {'user': {'name': 'user1'}, 'jwt': 'user1'+str(datetime.date.today())}}})\n",
      "        {'user': {'name': 'user1'}\n",
      "\n",
      "        \"\"\"\n",
      "\n",
      "    def set_current_user_info_and_log(self, user):\n",
      "        \"\"\"\n",
      "        Set the current user information and log the access.\n",
      "        :param user: dict, the user information\n",
      "        :return: None\n",
      "        >>> filter = AccessGatewayFilter()\n",
      "        >>> user = {'name': 'user1', 'address': '127.0.0.1'}\n",
      "        >>> filter.set_current_user_info_and_log(user)\n",
      "\n",
      "        \"\"\"\n",
      "def filter(self, request):\n",
      "        request_uri = request['path']\n",
      "        method = request['method']\n",
      "\n",
      "        if self.is_start_with(request_uri):\n",
      "            return True\n",
      "\n",
      "        try:\n",
      "            token = self.get_jwt_user(request)\n",
      "            user = token['user']\n",
      "            if user['level'] > 2:\n",
      "                self.set_current_user_info_and_log(user)\n",
      "                return True\n",
      "        except:\n",
      "            return False\n",
      "Filter the incoming request based on certain rules and conditions.\n"
     ]
    }
   ],
   "source": [
    "# file_path = DATA_DIR / \"method-level-with-skeleton.jsonl\"\n",
    "# with open(file_path, 'w') as f:\n",
    "#     for item in ds:\n",
    "#         skeleton = item['skeleton']\n",
    "#         # Remove ith method making variations equal to number of method in class\n",
    "#         for i in range(len(item['methods_info'])):\n",
    "#             if item['methods_info'][i]['method_id'] in few_shot_ids:\n",
    "#                 continue\n",
    "#             skeleton_i = copy(skeleton)\n",
    "#             for j, method in enumerate(item['methods_info']):\n",
    "#                 if method['method_id'] in few_shot_ids:\n",
    "#                     skeleton_i = skeleton_i.replace(method['method_description'] + '\\n', '')\n",
    "#                     continue\n",
    "#                 if i == j:\n",
    "#                     skeleton_i = skeleton_i.replace(method['method_description'] + '\\n', '')\n",
    "#                     method_code = method['solution_code']\n",
    "#                     method_summary = method['method_summary']\n",
    "#                     continue\n",
    "#             f.write(json.dumps({'class_id': item['task_id'] + '_sum', 'skeleton': skeleton_i, 'method_code': method_code, 'method_summary': method_summary}) + \"\\n\")\n",
    "\n",
    "# with open(file_path) as f:\n",
    "#     for line in f:\n",
    "#         line = json.loads(line)\n",
    "#         print(line['skeleton'])\n",
    "#         print(line['method_code'])\n",
    "#         print(line['method_summary'])\n",
    "#         break"
   ]
  },
  {
   "cell_type": "markdown",
   "metadata": {},
   "source": [
    "## Class-level"
   ]
  },
  {
   "cell_type": "code",
   "execution_count": null,
   "metadata": {},
   "outputs": [],
   "source": [
    "\"\"\"classes\n",
    "[\n",
    "    {\n",
    "        'class_code': raw str\n",
    "        'class_summary': str (label) TODO: crop the summary string\n",
    "    }\n",
    "]\n",
    "\"\"\""
   ]
  },
  {
   "cell_type": "code",
   "execution_count": null,
   "metadata": {},
   "outputs": [
    {
     "name": "stdout",
     "output_type": "stream",
     "text": [
      "{\"task_id\": \"ClassEval_0_sum\", \"class_code\": \"import logging\\nimport datetime\\n\\n\\nclass AccessGatewayFilter:\\n\\n    def __init__(self):\\n        pass\\n\\n    def filter(self, request):\\n        request_uri = request['path']\\n        method = request['method']\\n\\n        if self.is_start_with(request_uri):\\n            return True\\n\\n        try:\\n            token = self.get_jwt_user(request)\\n            user = token['user']\\n            if user['level'] > 2:\\n                self.set_current_user_info_and_log(user)\\n                return True\\n        except:\\n            return False\\n\\n    def is_start_with(self, request_uri):\\n        start_with = [\\\"/api\\\", '/login']\\n        for s in start_with:\\n            if request_uri.startswith(s):\\n                return True\\n        return False\\n\\n    def get_jwt_user(self, request):\\n        token = request['headers']['Authorization']\\n        user = token['user']\\n        if token['jwt'].startswith(user['name']):\\n            jwt_str_date = token['jwt'].split(user['name'])[1]\\n            jwt_date = datetime.datetime.strptime(jwt_str_date, \\\"%Y-%m-%d\\\")\\n            if datetime.datetime.today() - jwt_date >= datetime.timedelta(days=3):\\n                return None\\n        return token\\n\\n    def set_current_user_info_and_log(self, user):\\n        host = user['address']\\n        logging.log(msg=user['name'] + host + str(datetime.datetime.now()), level=1)\", \"class_summary\": \"This class is a filter used for accessing gateway filtering, primarily for authentication and access log recording.\"}\n",
      "\n"
     ]
    }
   ],
   "source": [
    "import json\n",
    "\n",
    "\n",
    "file_path = DATA_DIR + \"classic_class.jsonl\"\n",
    "with open(file_path, 'w') as f:\n",
    "    for item in ds:\n",
    "        class_code = item['solution_code']\n",
    "        class_summary = item['class_description'].split('\"\"\"')[1].strip()\n",
    "        element = {'task_id': item['task_id'] + '_sum', 'class_code': class_code, 'class_summary': class_summary }\n",
    "        f.write(json.dumps(element) + \"\\n\")\n",
    "\n",
    "with open(file_path) as f:\n",
    "    for line in f:\n",
    "        print(line)\n",
    "        break"
   ]
  },
  {
   "cell_type": "code",
   "execution_count": null,
   "metadata": {},
   "outputs": [
    {
     "name": "stdout",
     "output_type": "stream",
     "text": [
      "{\"task_id\": \"ClassEval_0_sum\", \"skeleton\": \"\\nimport logging\\nimport datetime\\n\\nclass AccessGatewayFilter:\\n\\n    def __init__(self):\\n        pass\\n\\n    def filter(self, request):\\n        \\\"\\\"\\\"\\n        Filter the incoming request based on certain rules and conditions.\\n        :param request: dict, the incoming request details\\n        :return: bool, True if the request is allowed, False otherwise\\n        >>> filter = AccessGatewayFilter()\\n        >>> filter.filter({'path': '/login', 'method': 'POST'})\\n        True\\n\\n        \\\"\\\"\\\"\\n\\n\\n    def is_start_with(self, request_uri):\\n        \\\"\\\"\\\"\\n        Check if the request URI starts with certain prefixes.\\n        :param request_uri: str, the URI of the request\\n        :return: bool, True if the URI starts with certain prefixes, False otherwise\\n        >>> filter = AccessGatewayFilter()\\n        >>> filter.is_start_with('/api/data')\\n        True\\n\\n        \\\"\\\"\\\"\\n\\n\\n    def get_jwt_user(self, request):\\n        \\\"\\\"\\\"\\n        Get the user information from the JWT token in the request.\\n        :param request: dict, the incoming request details\\n        :return: dict or None, the user information if the token is valid, None otherwise\\n        >>> filter = AccessGatewayFilter()\\n        >>> filter.get_jwt_user({'headers': {'Authorization': {'user': {'name': 'user1'}, 'jwt': 'user1'+str(datetime.date.today())}}})\\n        {'user': {'name': 'user1'}\\n\\n        \\\"\\\"\\\"\\n\\n    def set_current_user_info_and_log(self, user):\\n        \\\"\\\"\\\"\\n        Set the current user information and log the access.\\n        :param user: dict, the user information\\n        :return: None\\n        >>> filter = AccessGatewayFilter()\\n        >>> user = {'name': 'user1', 'address': '127.0.0.1'}\\n        >>> filter.set_current_user_info_and_log(user)\\n\\n        \\\"\\\"\\\"\", \"class_summary\": \"This class is a filter used for accessing gateway filtering, primarily for authentication and access log recording.\"}\n",
      "\n"
     ]
    }
   ],
   "source": [
    "import json\n",
    "import re\n",
    "\n",
    "file_path = DATA_DIR + \"classic_class_skeleton.jsonl\"\n",
    "with open(file_path, 'w') as f:\n",
    "    for item in ds:\n",
    "        skeleton = re.sub(item['class_description'], '', item['skeleton'])\n",
    "        class_summary = item['class_description'].split('\"\"\"')[1].strip()\n",
    "        element = {'task_id': item['task_id'] + '_sum', 'skeleton': skeleton, 'class_summary': class_summary }\n",
    "        f.write(json.dumps(element) + \"\\n\")\n",
    "\n",
    "with open(file_path) as f:\n",
    "    for line in f:\n",
    "        print(line)\n",
    "        break"
   ]
  }
 ],
 "metadata": {
  "kernelspec": {
   "display_name": "vladimir-torch",
   "language": "python",
   "name": "python3"
  },
  "language_info": {
   "codemirror_mode": {
    "name": "ipython",
    "version": 3
   },
   "file_extension": ".py",
   "mimetype": "text/x-python",
   "name": "python",
   "nbconvert_exporter": "python",
   "pygments_lexer": "ipython3",
   "version": "3.11.8"
  }
 },
 "nbformat": 4,
 "nbformat_minor": 2
}
