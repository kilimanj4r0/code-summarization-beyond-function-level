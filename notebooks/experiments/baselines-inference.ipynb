{
 "cells": [
  {
   "cell_type": "markdown",
   "metadata": {},
   "source": [
    "# Method-level\n"
   ]
  },
  {
   "cell_type": "markdown",
   "metadata": {},
   "source": [
    "### Imports\n"
   ]
  },
  {
   "cell_type": "code",
   "execution_count": 1,
   "metadata": {},
   "outputs": [
    {
     "name": "stderr",
     "output_type": "stream",
     "text": [
      "2024-04-26 11:13:22.875301: I tensorflow/core/util/port.cc:113] oneDNN custom operations are on. You may see slightly different numerical results due to floating-point round-off errors from different computation orders. To turn them off, set the environment variable `TF_ENABLE_ONEDNN_OPTS=0`.\n",
      "2024-04-26 11:13:22.924219: E external/local_xla/xla/stream_executor/cuda/cuda_dnn.cc:9261] Unable to register cuDNN factory: Attempting to register factory for plugin cuDNN when one has already been registered\n",
      "2024-04-26 11:13:22.924260: E external/local_xla/xla/stream_executor/cuda/cuda_fft.cc:607] Unable to register cuFFT factory: Attempting to register factory for plugin cuFFT when one has already been registered\n",
      "2024-04-26 11:13:22.925586: E external/local_xla/xla/stream_executor/cuda/cuda_blas.cc:1515] Unable to register cuBLAS factory: Attempting to register factory for plugin cuBLAS when one has already been registered\n",
      "2024-04-26 11:13:22.934306: I tensorflow/core/platform/cpu_feature_guard.cc:182] This TensorFlow binary is optimized to use available CPU instructions in performance-critical operations.\n",
      "To enable the following instructions: AVX2 AVX512F AVX512_VNNI FMA, in other operations, rebuild TensorFlow with the appropriate compiler flags.\n",
      "2024-04-26 11:13:24.040899: W tensorflow/compiler/tf2tensorrt/utils/py_utils.cc:38] TF-TRT Warning: Could not find TensorRT\n"
     ]
    }
   ],
   "source": [
    "from transformers import AutoTokenizer, AutoModelForSeq2SeqLM, SummarizationPipeline, AutoConfig, RobertaTokenizer\n",
    "from pathlib import Path\n",
    "from tqdm import tqdm\n",
    "from transformers import logging\n",
    "import warnings\n",
    "import pandas as pd\n",
    "\n",
    "logging.set_verbosity_error()\n",
    "warnings.filterwarnings(\"ignore\")"
   ]
  },
  {
   "cell_type": "markdown",
   "metadata": {},
   "source": [
    "### Define constants"
   ]
  },
  {
   "cell_type": "code",
   "execution_count": 2,
   "metadata": {},
   "outputs": [],
   "source": [
    "DATA_DIR = Path(\"../../data\")\n",
    "\n",
    "PREPROCESSED_DATA_DIR = DATA_DIR / \"preprocessed\"\n",
    "PREDICTED_DATA_DIR = DATA_DIR / \"predicted\"\n",
    "\n",
    "LEVEL = 'method'"
   ]
  },
  {
   "cell_type": "markdown",
   "metadata": {},
   "source": [
    "### Read data\n"
   ]
  },
  {
   "cell_type": "code",
   "execution_count": 3,
   "metadata": {},
   "outputs": [
    {
     "data": {
      "text/html": [
       "<div>\n",
       "<style scoped>\n",
       "    .dataframe tbody tr th:only-of-type {\n",
       "        vertical-align: middle;\n",
       "    }\n",
       "\n",
       "    .dataframe tbody tr th {\n",
       "        vertical-align: top;\n",
       "    }\n",
       "\n",
       "    .dataframe thead th {\n",
       "        text-align: right;\n",
       "    }\n",
       "</style>\n",
       "<table border=\"1\" class=\"dataframe\">\n",
       "  <thead>\n",
       "    <tr style=\"text-align: right;\">\n",
       "      <th></th>\n",
       "      <th>class_code</th>\n",
       "      <th>method_code</th>\n",
       "      <th>method_summary</th>\n",
       "    </tr>\n",
       "    <tr>\n",
       "      <th>class_id</th>\n",
       "      <th></th>\n",
       "      <th></th>\n",
       "      <th></th>\n",
       "    </tr>\n",
       "  </thead>\n",
       "  <tbody>\n",
       "    <tr>\n",
       "      <th>ClassEval_0_sum</th>\n",
       "      <td>import logging\\nimport datetime\\n\\n\\nclass Acc...</td>\n",
       "      <td>def filter(self, request):\\n        request_ur...</td>\n",
       "      <td>Filter the incoming request based on certain r...</td>\n",
       "    </tr>\n",
       "    <tr>\n",
       "      <th>ClassEval_0_sum</th>\n",
       "      <td>import logging\\nimport datetime\\n\\n\\nclass Acc...</td>\n",
       "      <td>def is_start_with(self, request_uri):\\n       ...</td>\n",
       "      <td>Check if the request URI starts with certain p...</td>\n",
       "    </tr>\n",
       "    <tr>\n",
       "      <th>ClassEval_0_sum</th>\n",
       "      <td>import logging\\nimport datetime\\n\\n\\nclass Acc...</td>\n",
       "      <td>def get_jwt_user(self, request):\\n        toke...</td>\n",
       "      <td>Get the user information from the JWT token in...</td>\n",
       "    </tr>\n",
       "    <tr>\n",
       "      <th>ClassEval_0_sum</th>\n",
       "      <td>import logging\\nimport datetime\\n\\n\\nclass Acc...</td>\n",
       "      <td>def set_current_user_info_and_log(self, user):...</td>\n",
       "      <td>Set the current user information and log the a...</td>\n",
       "    </tr>\n",
       "    <tr>\n",
       "      <th>ClassEval_1_sum</th>\n",
       "      <td>import math\\n\\n\\nclass AreaCalculator:\\n    \"\"...</td>\n",
       "      <td>def calculate_circle_area(self):\\n        retu...</td>\n",
       "      <td>calculate the area of circle based on self.radius</td>\n",
       "    </tr>\n",
       "    <tr>\n",
       "      <th>...</th>\n",
       "      <td>...</td>\n",
       "      <td>...</td>\n",
       "      <td>...</td>\n",
       "    </tr>\n",
       "    <tr>\n",
       "      <th>ClassEval_98_sum</th>\n",
       "      <td>import xml.etree.ElementTree as ET\\n\\n\\nclass ...</td>\n",
       "      <td>def process_xml_data(self, file_name):\\n      ...</td>\n",
       "      <td>Modifies the data in XML elements and writes t...</td>\n",
       "    </tr>\n",
       "    <tr>\n",
       "      <th>ClassEval_98_sum</th>\n",
       "      <td>import xml.etree.ElementTree as ET\\n\\n\\nclass ...</td>\n",
       "      <td>def find_element(self, element_name):\\n       ...</td>\n",
       "      <td>Finds the XML elements with the specified name.</td>\n",
       "    </tr>\n",
       "    <tr>\n",
       "      <th>ClassEval_99_sum</th>\n",
       "      <td>import zipfile\\n\\n\\nclass ZipFileProcessor:\\n ...</td>\n",
       "      <td>def read_zip_file(self):\\n        try:\\n      ...</td>\n",
       "      <td>Get open file object</td>\n",
       "    </tr>\n",
       "    <tr>\n",
       "      <th>ClassEval_99_sum</th>\n",
       "      <td>import zipfile\\n\\n\\nclass ZipFileProcessor:\\n ...</td>\n",
       "      <td>def extract_file(self, file_name, output_path)...</td>\n",
       "      <td>Extract the file with the specified name from ...</td>\n",
       "    </tr>\n",
       "    <tr>\n",
       "      <th>ClassEval_99_sum</th>\n",
       "      <td>import zipfile\\n\\n\\nclass ZipFileProcessor:\\n ...</td>\n",
       "      <td>def create_zip_file(self, files, output_file_n...</td>\n",
       "      <td>Compress the specified file list into a zip fi...</td>\n",
       "    </tr>\n",
       "  </tbody>\n",
       "</table>\n",
       "<p>400 rows × 3 columns</p>\n",
       "</div>"
      ],
      "text/plain": [
       "                                                         class_code  \\\n",
       "class_id                                                              \n",
       "ClassEval_0_sum   import logging\\nimport datetime\\n\\n\\nclass Acc...   \n",
       "ClassEval_0_sum   import logging\\nimport datetime\\n\\n\\nclass Acc...   \n",
       "ClassEval_0_sum   import logging\\nimport datetime\\n\\n\\nclass Acc...   \n",
       "ClassEval_0_sum   import logging\\nimport datetime\\n\\n\\nclass Acc...   \n",
       "ClassEval_1_sum   import math\\n\\n\\nclass AreaCalculator:\\n    \"\"...   \n",
       "...                                                             ...   \n",
       "ClassEval_98_sum  import xml.etree.ElementTree as ET\\n\\n\\nclass ...   \n",
       "ClassEval_98_sum  import xml.etree.ElementTree as ET\\n\\n\\nclass ...   \n",
       "ClassEval_99_sum  import zipfile\\n\\n\\nclass ZipFileProcessor:\\n ...   \n",
       "ClassEval_99_sum  import zipfile\\n\\n\\nclass ZipFileProcessor:\\n ...   \n",
       "ClassEval_99_sum  import zipfile\\n\\n\\nclass ZipFileProcessor:\\n ...   \n",
       "\n",
       "                                                        method_code  \\\n",
       "class_id                                                              \n",
       "ClassEval_0_sum   def filter(self, request):\\n        request_ur...   \n",
       "ClassEval_0_sum   def is_start_with(self, request_uri):\\n       ...   \n",
       "ClassEval_0_sum   def get_jwt_user(self, request):\\n        toke...   \n",
       "ClassEval_0_sum   def set_current_user_info_and_log(self, user):...   \n",
       "ClassEval_1_sum   def calculate_circle_area(self):\\n        retu...   \n",
       "...                                                             ...   \n",
       "ClassEval_98_sum  def process_xml_data(self, file_name):\\n      ...   \n",
       "ClassEval_98_sum  def find_element(self, element_name):\\n       ...   \n",
       "ClassEval_99_sum  def read_zip_file(self):\\n        try:\\n      ...   \n",
       "ClassEval_99_sum  def extract_file(self, file_name, output_path)...   \n",
       "ClassEval_99_sum  def create_zip_file(self, files, output_file_n...   \n",
       "\n",
       "                                                     method_summary  \n",
       "class_id                                                             \n",
       "ClassEval_0_sum   Filter the incoming request based on certain r...  \n",
       "ClassEval_0_sum   Check if the request URI starts with certain p...  \n",
       "ClassEval_0_sum   Get the user information from the JWT token in...  \n",
       "ClassEval_0_sum   Set the current user information and log the a...  \n",
       "ClassEval_1_sum   calculate the area of circle based on self.radius  \n",
       "...                                                             ...  \n",
       "ClassEval_98_sum  Modifies the data in XML elements and writes t...  \n",
       "ClassEval_98_sum    Finds the XML elements with the specified name.  \n",
       "ClassEval_99_sum                               Get open file object  \n",
       "ClassEval_99_sum  Extract the file with the specified name from ...  \n",
       "ClassEval_99_sum  Compress the specified file list into a zip fi...  \n",
       "\n",
       "[400 rows x 3 columns]"
      ]
     },
     "execution_count": 3,
     "metadata": {},
     "output_type": "execute_result"
    }
   ],
   "source": [
    "file_path = PREPROCESSED_DATA_DIR / f\"{LEVEL}-level-with-class.jsonl\"\n",
    "df = pd.read_json(file_path, lines=True).set_index(\"class_id\")\n",
    "df"
   ]
  },
  {
   "cell_type": "markdown",
   "metadata": {},
   "source": [
    "### Define the summarization pipeline\n"
   ]
  },
  {
   "cell_type": "code",
   "execution_count": 4,
   "metadata": {},
   "outputs": [],
   "source": [
    "model_names = [\n",
    "    \"SEBIS/code_trans_t5_large_source_code_summarization_python_multitask_finetune\",\n",
    "    \"SEBIS/code_trans_t5_large_code_documentation_generation_python_multitask_finetune\",\n",
    "    \"Salesforce/codet5-base-multi-sum\",\n",
    "    \"Paul-B98/codet5p_220m_py_sum\",\n",
    "    \"lintang/pile-t5-large-codexglue\",\n",
    "]\n",
    "MODEL_NAME = model_names[4]\n",
    "\n",
    "MODEL_DIR = PREDICTED_DATA_DIR / MODEL_NAME.split(\"/\")[-1]\n",
    "MODEL_DIR.mkdir(parents=True, exist_ok=True)"
   ]
  },
  {
   "cell_type": "code",
   "execution_count": 5,
   "metadata": {},
   "outputs": [
    {
     "data": {
      "application/vnd.jupyter.widget-view+json": {
       "model_id": "5fa2f0641e83428bb3d2b42d9cc3657b",
       "version_major": 2,
       "version_minor": 0
      },
      "text/plain": [
       "config.json:   0%|          | 0.00/797 [00:00<?, ?B/s]"
      ]
     },
     "metadata": {},
     "output_type": "display_data"
    },
    {
     "data": {
      "application/vnd.jupyter.widget-view+json": {
       "model_id": "7b7fbe1e0c4e460485a55dd8c5b0a72b",
       "version_major": 2,
       "version_minor": 0
      },
      "text/plain": [
       "model.safetensors:   0%|          | 0.00/3.13G [00:00<?, ?B/s]"
      ]
     },
     "metadata": {},
     "output_type": "display_data"
    },
    {
     "data": {
      "application/vnd.jupyter.widget-view+json": {
       "model_id": "c77179fb663942abbdcfb9e0516eed9d",
       "version_major": 2,
       "version_minor": 0
      },
      "text/plain": [
       "generation_config.json:   0%|          | 0.00/156 [00:00<?, ?B/s]"
      ]
     },
     "metadata": {},
     "output_type": "display_data"
    },
    {
     "data": {
      "application/vnd.jupyter.widget-view+json": {
       "model_id": "a977c6796f6e4e2e8d905115524cc0fc",
       "version_major": 2,
       "version_minor": 0
      },
      "text/plain": [
       "tokenizer_config.json:   0%|          | 0.00/2.37k [00:00<?, ?B/s]"
      ]
     },
     "metadata": {},
     "output_type": "display_data"
    },
    {
     "data": {
      "application/vnd.jupyter.widget-view+json": {
       "model_id": "3c825ed3675246289e9fcf365ad6ae50",
       "version_major": 2,
       "version_minor": 0
      },
      "text/plain": [
       "spiece.model:   0%|          | 0.00/500k [00:00<?, ?B/s]"
      ]
     },
     "metadata": {},
     "output_type": "display_data"
    },
    {
     "data": {
      "application/vnd.jupyter.widget-view+json": {
       "model_id": "3b4a7d51237a45a1977d9341ace9bc5f",
       "version_major": 2,
       "version_minor": 0
      },
      "text/plain": [
       "special_tokens_map.json:   0%|          | 0.00/2.22k [00:00<?, ?B/s]"
      ]
     },
     "metadata": {},
     "output_type": "display_data"
    }
   ],
   "source": [
    "config = AutoConfig.from_pretrained(MODEL_NAME)\n",
    "\n",
    "model = AutoModelForSeq2SeqLM.from_pretrained(MODEL_NAME, config=config)\n",
    "\n",
    "if MODEL_NAME == 'Paul-B98/codet5p_220m_py_sum':\n",
    "    tokenizer = AutoTokenizer.from_pretrained(\"Salesforce/codet5p-220m\")\n",
    "else:\n",
    "    tokenizer = AutoTokenizer.from_pretrained(\n",
    "        MODEL_NAME, config=config, skip_special_tokens=True, legacy=False, padding=True\n",
    "    )\n",
    "pipeline = SummarizationPipeline(model, tokenizer, config, device=\"cuda\")"
   ]
  },
  {
   "cell_type": "markdown",
   "metadata": {},
   "source": [
    "### Inference (applying summarization pipeline)\n"
   ]
  },
  {
   "cell_type": "markdown",
   "metadata": {},
   "source": [
    "Using [Multinomial sampling Beam Search](https://huggingface.co/docs/transformers/main/en/generation_strategies#beam-search-multinomial-sampling)"
   ]
  },
  {
   "cell_type": "code",
   "execution_count": 50,
   "metadata": {},
   "outputs": [
    {
     "name": "stderr",
     "output_type": "stream",
     "text": [
      "100%|██████████| 400/400 [02:38<00:00,  2.52it/s]"
     ]
    },
    {
     "name": "stdout",
     "output_type": "stream",
     "text": [
      "CPU times: user 2min 38s, sys: 164 ms, total: 2min 39s\n",
      "Wall time: 2min 38s\n"
     ]
    },
    {
     "name": "stderr",
     "output_type": "stream",
     "text": [
      "\n"
     ]
    },
    {
     "data": {
      "text/html": [
       "<div>\n",
       "<style scoped>\n",
       "    .dataframe tbody tr th:only-of-type {\n",
       "        vertical-align: middle;\n",
       "    }\n",
       "\n",
       "    .dataframe tbody tr th {\n",
       "        vertical-align: top;\n",
       "    }\n",
       "\n",
       "    .dataframe thead th {\n",
       "        text-align: right;\n",
       "    }\n",
       "</style>\n",
       "<table border=\"1\" class=\"dataframe\">\n",
       "  <thead>\n",
       "    <tr style=\"text-align: right;\">\n",
       "      <th></th>\n",
       "      <th>method_code</th>\n",
       "      <th>method_summary</th>\n",
       "      <th>pred_summary</th>\n",
       "    </tr>\n",
       "    <tr>\n",
       "      <th>class_id</th>\n",
       "      <th></th>\n",
       "      <th></th>\n",
       "      <th></th>\n",
       "    </tr>\n",
       "  </thead>\n",
       "  <tbody>\n",
       "    <tr>\n",
       "      <th>ClassEval_0_sum</th>\n",
       "      <td>def filter(self, request):\\n        request_ur...</td>\n",
       "      <td>Filter the incoming request based on certain r...</td>\n",
       "      <td>1. Get the request path and method from the re...</td>\n",
       "    </tr>\n",
       "    <tr>\n",
       "      <th>ClassEval_0_sum</th>\n",
       "      <td>def is_start_with(self, request_uri):\\n       ...</td>\n",
       "      <td>Check if the request URI starts with certain p...</td>\n",
       "      <td>Create a method is_start_with that will check ...</td>\n",
       "    </tr>\n",
       "    <tr>\n",
       "      <th>ClassEval_0_sum</th>\n",
       "      <td>def get_jwt_user(self, request):\\n        toke...</td>\n",
       "      <td>Get the user information from the JWT token in...</td>\n",
       "      <td>1. Get the JWT user from the request.\\n2. If t...</td>\n",
       "    </tr>\n",
       "    <tr>\n",
       "      <th>ClassEval_0_sum</th>\n",
       "      <td>def set_current_user_info_and_log(self, user):...</td>\n",
       "      <td>Set the current user information and log the a...</td>\n",
       "      <td>Create a method set_current_user_info_and_log ...</td>\n",
       "    </tr>\n",
       "    <tr>\n",
       "      <th>ClassEval_1_sum</th>\n",
       "      <td>def calculate_circle_area(self):\\n        retu...</td>\n",
       "      <td>calculate the area of circle based on self.radius</td>\n",
       "      <td>calculate_circle_area(self):\\n        \"\"\"\\n   ...</td>\n",
       "    </tr>\n",
       "  </tbody>\n",
       "</table>\n",
       "</div>"
      ],
      "text/plain": [
       "                                                       method_code  \\\n",
       "class_id                                                             \n",
       "ClassEval_0_sum  def filter(self, request):\\n        request_ur...   \n",
       "ClassEval_0_sum  def is_start_with(self, request_uri):\\n       ...   \n",
       "ClassEval_0_sum  def get_jwt_user(self, request):\\n        toke...   \n",
       "ClassEval_0_sum  def set_current_user_info_and_log(self, user):...   \n",
       "ClassEval_1_sum  def calculate_circle_area(self):\\n        retu...   \n",
       "\n",
       "                                                    method_summary  \\\n",
       "class_id                                                             \n",
       "ClassEval_0_sum  Filter the incoming request based on certain r...   \n",
       "ClassEval_0_sum  Check if the request URI starts with certain p...   \n",
       "ClassEval_0_sum  Get the user information from the JWT token in...   \n",
       "ClassEval_0_sum  Set the current user information and log the a...   \n",
       "ClassEval_1_sum  calculate the area of circle based on self.radius   \n",
       "\n",
       "                                                      pred_summary  \n",
       "class_id                                                            \n",
       "ClassEval_0_sum  1. Get the request path and method from the re...  \n",
       "ClassEval_0_sum  Create a method is_start_with that will check ...  \n",
       "ClassEval_0_sum  1. Get the JWT user from the request.\\n2. If t...  \n",
       "ClassEval_0_sum  Create a method set_current_user_info_and_log ...  \n",
       "ClassEval_1_sum  calculate_circle_area(self):\\n        \"\"\"\\n   ...  "
      ]
     },
     "execution_count": 50,
     "metadata": {},
     "output_type": "execute_result"
    }
   ],
   "source": [
    "%%time\n",
    "tqdm.pandas()\n",
    "df[\"pred_summary\"] = df[\"method_code\"].progress_apply(\n",
    "    lambda x: pipeline(x, do_sample=True, num_beams=5)[0][\"summary_text\"]\n",
    ")\n",
    "df.head()"
   ]
  },
  {
   "cell_type": "markdown",
   "metadata": {},
   "source": [
    "### Save predictions"
   ]
  },
  {
   "cell_type": "code",
   "execution_count": 52,
   "metadata": {},
   "outputs": [],
   "source": [
    "df = df.reset_index()\n",
    "df.to_json(MODEL_DIR / f\"{LEVEL}-level-pred.jsonl\", orient='records', lines=True)"
   ]
  }
 ],
 "metadata": {
  "kernelspec": {
   "display_name": "vladimir-transformers",
   "language": "python",
   "name": "python3"
  },
  "language_info": {
   "codemirror_mode": {
    "name": "ipython",
    "version": 3
   },
   "file_extension": ".py",
   "mimetype": "text/x-python",
   "name": "python",
   "nbconvert_exporter": "python",
   "pygments_lexer": "ipython3",
   "version": "3.11.8"
  }
 },
 "nbformat": 4,
 "nbformat_minor": 2
}
